{
 "cells": [
  {
   "cell_type": "markdown",
   "metadata": {},
   "source": [
    "# Ride Hailing Apps Pricing Analysis and Prediction\n",
    "\n",
    "## Estimating the cost for a Cab ride \n",
    "--------------"
   ]
  },
  {
   "cell_type": "markdown",
   "metadata": {},
   "source": [
    "## Data\n",
    "### *'cab_rides.csv'* - Cab Details \n",
    "### *'weather.csv'* - Weather Details \n",
    "------------------------------------------"
   ]
  },
  {
   "cell_type": "markdown",
   "metadata": {},
   "source": [
    "#### Importing SQLite & Create Functions used for Normalized database "
   ]
  },
  {
   "cell_type": "code",
   "execution_count": 1,
   "metadata": {},
   "outputs": [],
   "source": [
    "# Load the necessary libraries.\n",
    "import sqlite3"
   ]
  },
  {
   "cell_type": "code",
   "execution_count": 2,
   "metadata": {},
   "outputs": [],
   "source": [
    "### Utility Functions\n",
    "from IPython.display import display, HTML\n",
    "import pandas as pd\n",
    "import sqlite3\n",
    "from sqlite3 import Error\n",
    "\n",
    "def create_connection(db_file, delete_db=False):\n",
    "    import os\n",
    "    if delete_db and os.path.exists(db_file):\n",
    "        os.remove(db_file)\n",
    "\n",
    "    conn = None\n",
    "    try:\n",
    "        conn = sqlite3.connect(db_file)\n",
    "        conn.execute(\"PRAGMA foreign_keys = 1\")\n",
    "    except Error as e:\n",
    "        print(e)\n",
    "\n",
    "    return conn\n",
    "\n",
    "\n",
    "def create_table(conn, create_table_sql, drop_table_name=None):\n",
    "    \n",
    "    if drop_table_name: # You can optionally pass drop_table_name to drop the table. \n",
    "        try:\n",
    "            c = conn.cursor()\n",
    "            c.execute(\"\"\"DROP TABLE IF EXISTS %s\"\"\" % (drop_table_name))\n",
    "        except Error as e:\n",
    "            print(e)\n",
    "    \n",
    "    try:\n",
    "        c = conn.cursor()\n",
    "        c.execute(create_table_sql)\n",
    "    except Error as e:\n",
    "        print(e)\n",
    "        \n",
    "def execute_sql_statement(sql_statement, conn):\n",
    "    cur = conn.cursor()\n",
    "    cur.execute(sql_statement)\n",
    "\n",
    "    rows = cur.fetchall()\n",
    "\n",
    "    return rows"
   ]
  },
  {
   "cell_type": "code",
   "execution_count": 3,
   "metadata": {},
   "outputs": [],
   "source": [
    "# Delete old database file\n",
    "normalized_database_filename = 'normalized.db'\n",
    "conn = create_connection(normalized_database_filename, delete_db = True)"
   ]
  },
  {
   "cell_type": "code",
   "execution_count": 4,
   "metadata": {},
   "outputs": [],
   "source": [
    "conn = create_connection(normalized_database_filename)\n",
    "cur = conn.cursor()"
   ]
  },
  {
   "cell_type": "markdown",
   "metadata": {},
   "source": [
    "### Create tables & Insert Values into the Tables "
   ]
  },
  {
   "cell_type": "markdown",
   "metadata": {},
   "source": [
    "#### *1. Location Table*"
   ]
  },
  {
   "cell_type": "code",
   "execution_count": 5,
   "metadata": {},
   "outputs": [],
   "source": [
    "# Create table statement\n",
    "table_location = \"\"\"CREATE TABLE [Location] (\n",
    "    [Location_ID] INTEGER NOT NULL PRIMARY KEY,\n",
    "    [Location] TEXT NOT NULL\n",
    "    );\"\"\"\n",
    "    \n",
    "with conn:\n",
    "    create_table(conn, table_location)\n",
    "\n",
    "location = []\n",
    "a = 0\n",
    "\n",
    "# Loading data\n",
    "with open('cab_rides.csv') as file:\n",
    "    for line in file:\n",
    "        if a > 0:\n",
    "            row = line.split('\\t')[0].strip().split(',')\n",
    "            location.append((row[3],))\n",
    "            location.append((row[4],))\n",
    "        a += 1\n",
    "\n",
    "location_sorted = sorted(list(set(location)))\n",
    "\n",
    "# Inserting values into table\n",
    "cur.executemany(\"\"\"INSERT INTO Location (Location) VALUES (?)\"\"\", location_sorted)\n",
    "conn.commit()"
   ]
  },
  {
   "cell_type": "code",
   "execution_count": 6,
   "metadata": {},
   "outputs": [
    {
     "name": "stdout",
     "output_type": "stream",
     "text": [
      "(12, 2)\n"
     ]
    }
   ],
   "source": [
    "# Data Check\n",
    "import pandas as pd\n",
    "df_location = pd.read_sql_query(\"\"\"SELECT * FROM Location\"\"\", conn)\n",
    "print(df_location.shape)"
   ]
  },
  {
   "cell_type": "code",
   "execution_count": 7,
   "metadata": {},
   "outputs": [
    {
     "data": {
      "text/html": [
       "<div>\n",
       "<style scoped>\n",
       "    .dataframe tbody tr th:only-of-type {\n",
       "        vertical-align: middle;\n",
       "    }\n",
       "\n",
       "    .dataframe tbody tr th {\n",
       "        vertical-align: top;\n",
       "    }\n",
       "\n",
       "    .dataframe thead th {\n",
       "        text-align: right;\n",
       "    }\n",
       "</style>\n",
       "<table border=\"1\" class=\"dataframe\">\n",
       "  <thead>\n",
       "    <tr style=\"text-align: right;\">\n",
       "      <th></th>\n",
       "      <th>Location_ID</th>\n",
       "      <th>Location</th>\n",
       "    </tr>\n",
       "  </thead>\n",
       "  <tbody>\n",
       "    <tr>\n",
       "      <th>0</th>\n",
       "      <td>1</td>\n",
       "      <td>Back Bay</td>\n",
       "    </tr>\n",
       "    <tr>\n",
       "      <th>1</th>\n",
       "      <td>2</td>\n",
       "      <td>Beacon Hill</td>\n",
       "    </tr>\n",
       "    <tr>\n",
       "      <th>2</th>\n",
       "      <td>3</td>\n",
       "      <td>Boston University</td>\n",
       "    </tr>\n",
       "    <tr>\n",
       "      <th>3</th>\n",
       "      <td>4</td>\n",
       "      <td>Fenway</td>\n",
       "    </tr>\n",
       "    <tr>\n",
       "      <th>4</th>\n",
       "      <td>5</td>\n",
       "      <td>Financial District</td>\n",
       "    </tr>\n",
       "    <tr>\n",
       "      <th>5</th>\n",
       "      <td>6</td>\n",
       "      <td>Haymarket Square</td>\n",
       "    </tr>\n",
       "    <tr>\n",
       "      <th>6</th>\n",
       "      <td>7</td>\n",
       "      <td>North End</td>\n",
       "    </tr>\n",
       "    <tr>\n",
       "      <th>7</th>\n",
       "      <td>8</td>\n",
       "      <td>North Station</td>\n",
       "    </tr>\n",
       "    <tr>\n",
       "      <th>8</th>\n",
       "      <td>9</td>\n",
       "      <td>Northeastern University</td>\n",
       "    </tr>\n",
       "    <tr>\n",
       "      <th>9</th>\n",
       "      <td>10</td>\n",
       "      <td>South Station</td>\n",
       "    </tr>\n",
       "    <tr>\n",
       "      <th>10</th>\n",
       "      <td>11</td>\n",
       "      <td>Theatre District</td>\n",
       "    </tr>\n",
       "    <tr>\n",
       "      <th>11</th>\n",
       "      <td>12</td>\n",
       "      <td>West End</td>\n",
       "    </tr>\n",
       "  </tbody>\n",
       "</table>\n",
       "</div>"
      ],
      "text/plain": [
       "    Location_ID                 Location\n",
       "0             1                 Back Bay\n",
       "1             2              Beacon Hill\n",
       "2             3        Boston University\n",
       "3             4                   Fenway\n",
       "4             5       Financial District\n",
       "5             6         Haymarket Square\n",
       "6             7                North End\n",
       "7             8            North Station\n",
       "8             9  Northeastern University\n",
       "9            10            South Station\n",
       "10           11         Theatre District\n",
       "11           12                 West End"
      ]
     },
     "execution_count": 7,
     "metadata": {},
     "output_type": "execute_result"
    }
   ],
   "source": [
    "df_location"
   ]
  },
  {
   "cell_type": "markdown",
   "metadata": {},
   "source": [
    "### *2. Creating Timestamp Table*"
   ]
  },
  {
   "cell_type": "code",
   "execution_count": 8,
   "metadata": {},
   "outputs": [],
   "source": [
    "from datetime import datetime\n",
    "from datetime import date\n",
    "import datetime"
   ]
  },
  {
   "cell_type": "code",
   "execution_count": 9,
   "metadata": {},
   "outputs": [],
   "source": [
    "# Create table statement \n",
    "table_timestamp = \"\"\"CREATE TABLE [Timestamp] (\n",
    "    [Timestamp_ID] INTEGER NOT NULL PRIMARY KEY,\n",
    "    [Date] TEXT NOT NULL,\n",
    "    [Day] TEXT NOT NULL,\n",
    "    [Hour] TEXT NOT NULL\n",
    "    );\"\"\"\n",
    "    \n",
    "with conn:\n",
    "    create_table(conn, table_timestamp)\n",
    "\n",
    "ts = []\n",
    "a = 0\n",
    "\n",
    "# Load Data\n",
    "with open('weather.csv') as file:\n",
    "    for line in file:\n",
    "        if a > 0:\n",
    "            row = line.split('\\t')[0].strip().split(',')\n",
    "            timestamp = int(row[5])\n",
    "            date_weather = datetime.datetime.fromtimestamp(timestamp)\n",
    "            temp = date_weather.strftime(\"%Y-%m-%d %H\").split(' ')\n",
    "            ts.append((temp[0],\n",
    "                      datetime.datetime(int(temp[0][0:4]), int(temp[0][5:7]), int(temp[0][8:10])).strftime('%A'),\n",
    "                       temp[1]))\n",
    "        a += 1\n",
    "\n",
    "# insert values into table\n",
    "cur.executemany(\"\"\"INSERT INTO Timestamp (Date, Day, Hour) VALUES (?, ?, ?)\"\"\", ts)\n",
    "conn.commit()"
   ]
  },
  {
   "cell_type": "code",
   "execution_count": 10,
   "metadata": {},
   "outputs": [
    {
     "name": "stdout",
     "output_type": "stream",
     "text": [
      "(6276, 4)\n"
     ]
    }
   ],
   "source": [
    "# Data Check \n",
    "df_timestamp = pd.read_sql_query(\"\"\"SELECT * FROM Timestamp\"\"\", conn)\n",
    "print(df_timestamp.shape)"
   ]
  },
  {
   "cell_type": "code",
   "execution_count": 11,
   "metadata": {},
   "outputs": [
    {
     "data": {
      "text/html": [
       "<div>\n",
       "<style scoped>\n",
       "    .dataframe tbody tr th:only-of-type {\n",
       "        vertical-align: middle;\n",
       "    }\n",
       "\n",
       "    .dataframe tbody tr th {\n",
       "        vertical-align: top;\n",
       "    }\n",
       "\n",
       "    .dataframe thead th {\n",
       "        text-align: right;\n",
       "    }\n",
       "</style>\n",
       "<table border=\"1\" class=\"dataframe\">\n",
       "  <thead>\n",
       "    <tr style=\"text-align: right;\">\n",
       "      <th></th>\n",
       "      <th>Timestamp_ID</th>\n",
       "      <th>Date</th>\n",
       "      <th>Day</th>\n",
       "      <th>Hour</th>\n",
       "    </tr>\n",
       "  </thead>\n",
       "  <tbody>\n",
       "    <tr>\n",
       "      <th>0</th>\n",
       "      <td>1</td>\n",
       "      <td>2018-12-16</td>\n",
       "      <td>Sunday</td>\n",
       "      <td>18</td>\n",
       "    </tr>\n",
       "    <tr>\n",
       "      <th>1</th>\n",
       "      <td>2</td>\n",
       "      <td>2018-12-16</td>\n",
       "      <td>Sunday</td>\n",
       "      <td>18</td>\n",
       "    </tr>\n",
       "    <tr>\n",
       "      <th>2</th>\n",
       "      <td>3</td>\n",
       "      <td>2018-12-16</td>\n",
       "      <td>Sunday</td>\n",
       "      <td>18</td>\n",
       "    </tr>\n",
       "    <tr>\n",
       "      <th>3</th>\n",
       "      <td>4</td>\n",
       "      <td>2018-12-16</td>\n",
       "      <td>Sunday</td>\n",
       "      <td>18</td>\n",
       "    </tr>\n",
       "    <tr>\n",
       "      <th>4</th>\n",
       "      <td>5</td>\n",
       "      <td>2018-12-16</td>\n",
       "      <td>Sunday</td>\n",
       "      <td>18</td>\n",
       "    </tr>\n",
       "    <tr>\n",
       "      <th>...</th>\n",
       "      <td>...</td>\n",
       "      <td>...</td>\n",
       "      <td>...</td>\n",
       "      <td>...</td>\n",
       "    </tr>\n",
       "    <tr>\n",
       "      <th>6271</th>\n",
       "      <td>6272</td>\n",
       "      <td>2018-12-03</td>\n",
       "      <td>Monday</td>\n",
       "      <td>01</td>\n",
       "    </tr>\n",
       "    <tr>\n",
       "      <th>6272</th>\n",
       "      <td>6273</td>\n",
       "      <td>2018-12-03</td>\n",
       "      <td>Monday</td>\n",
       "      <td>01</td>\n",
       "    </tr>\n",
       "    <tr>\n",
       "      <th>6273</th>\n",
       "      <td>6274</td>\n",
       "      <td>2018-12-03</td>\n",
       "      <td>Monday</td>\n",
       "      <td>01</td>\n",
       "    </tr>\n",
       "    <tr>\n",
       "      <th>6274</th>\n",
       "      <td>6275</td>\n",
       "      <td>2018-12-03</td>\n",
       "      <td>Monday</td>\n",
       "      <td>01</td>\n",
       "    </tr>\n",
       "    <tr>\n",
       "      <th>6275</th>\n",
       "      <td>6276</td>\n",
       "      <td>2018-12-03</td>\n",
       "      <td>Monday</td>\n",
       "      <td>01</td>\n",
       "    </tr>\n",
       "  </tbody>\n",
       "</table>\n",
       "<p>6276 rows × 4 columns</p>\n",
       "</div>"
      ],
      "text/plain": [
       "      Timestamp_ID        Date     Day Hour\n",
       "0                1  2018-12-16  Sunday   18\n",
       "1                2  2018-12-16  Sunday   18\n",
       "2                3  2018-12-16  Sunday   18\n",
       "3                4  2018-12-16  Sunday   18\n",
       "4                5  2018-12-16  Sunday   18\n",
       "...            ...         ...     ...  ...\n",
       "6271          6272  2018-12-03  Monday   01\n",
       "6272          6273  2018-12-03  Monday   01\n",
       "6273          6274  2018-12-03  Monday   01\n",
       "6274          6275  2018-12-03  Monday   01\n",
       "6275          6276  2018-12-03  Monday   01\n",
       "\n",
       "[6276 rows x 4 columns]"
      ]
     },
     "execution_count": 11,
     "metadata": {},
     "output_type": "execute_result"
    }
   ],
   "source": [
    "df_timestamp"
   ]
  },
  {
   "cell_type": "markdown",
   "metadata": {},
   "source": [
    "### *3. Creating CabType Table*"
   ]
  },
  {
   "cell_type": "code",
   "execution_count": 12,
   "metadata": {},
   "outputs": [],
   "source": [
    "# Create table Statement\n",
    "table_cab_type = \"\"\"CREATE TABLE [CabType] (\n",
    "    [CabTypeID] INTEGER NOT NULL PRIMARY KEY,\n",
    "    [CabTypeName] TEXT NOT NULL\n",
    "    );\"\"\"\n",
    "    \n",
    "with conn:\n",
    "    create_table(conn, table_cab_type)\n",
    "\n",
    "cab_type = []\n",
    "a = 0\n",
    "\n",
    "# Load Data\n",
    "with open('cab_rides.csv') as file:\n",
    "    for line in file:\n",
    "        if a > 0:\n",
    "            row = line.split('\\t')[0].strip().split(',')\n",
    "            cab_type.append((row[1],))\n",
    "        a += 1\n",
    "\n",
    "cab_type_sorted = sorted(list(set(cab_type)))\n",
    "\n",
    "# Insert values into table\n",
    "cur.executemany(\"\"\"INSERT INTO CabType (CabTypeName) VALUES (?)\"\"\", cab_type_sorted)\n",
    "conn.commit()"
   ]
  },
  {
   "cell_type": "code",
   "execution_count": 13,
   "metadata": {},
   "outputs": [
    {
     "data": {
      "text/plain": [
       "[('Lyft',), ('Uber',)]"
      ]
     },
     "execution_count": 13,
     "metadata": {},
     "output_type": "execute_result"
    }
   ],
   "source": [
    "# Data Check\n",
    "cab_type_sorted"
   ]
  },
  {
   "cell_type": "code",
   "execution_count": 14,
   "metadata": {},
   "outputs": [
    {
     "name": "stdout",
     "output_type": "stream",
     "text": [
      "(2, 2)\n"
     ]
    }
   ],
   "source": [
    "df_cab_type = pd.read_sql_query(\"\"\"SELECT * FROM CabType\"\"\", conn)\n",
    "print(df_cab_type.shape)"
   ]
  },
  {
   "cell_type": "code",
   "execution_count": 15,
   "metadata": {},
   "outputs": [
    {
     "data": {
      "text/html": [
       "<div>\n",
       "<style scoped>\n",
       "    .dataframe tbody tr th:only-of-type {\n",
       "        vertical-align: middle;\n",
       "    }\n",
       "\n",
       "    .dataframe tbody tr th {\n",
       "        vertical-align: top;\n",
       "    }\n",
       "\n",
       "    .dataframe thead th {\n",
       "        text-align: right;\n",
       "    }\n",
       "</style>\n",
       "<table border=\"1\" class=\"dataframe\">\n",
       "  <thead>\n",
       "    <tr style=\"text-align: right;\">\n",
       "      <th></th>\n",
       "      <th>CabTypeID</th>\n",
       "      <th>CabTypeName</th>\n",
       "    </tr>\n",
       "  </thead>\n",
       "  <tbody>\n",
       "    <tr>\n",
       "      <th>0</th>\n",
       "      <td>1</td>\n",
       "      <td>Lyft</td>\n",
       "    </tr>\n",
       "    <tr>\n",
       "      <th>1</th>\n",
       "      <td>2</td>\n",
       "      <td>Uber</td>\n",
       "    </tr>\n",
       "  </tbody>\n",
       "</table>\n",
       "</div>"
      ],
      "text/plain": [
       "   CabTypeID CabTypeName\n",
       "0          1        Lyft\n",
       "1          2        Uber"
      ]
     },
     "execution_count": 15,
     "metadata": {},
     "output_type": "execute_result"
    }
   ],
   "source": [
    "df_cab_type"
   ]
  },
  {
   "cell_type": "markdown",
   "metadata": {},
   "source": [
    "### *4. Creating CabProductType Table*"
   ]
  },
  {
   "cell_type": "code",
   "execution_count": 16,
   "metadata": {},
   "outputs": [],
   "source": [
    "# Create Table Statement\n",
    "table_cab_product_type = \"\"\"CREATE TABLE [CabProductType] (\n",
    "    [Product_ID] INTEGER NOT NULL PRIMARY KEY,\n",
    "    [ProductName] TEXT NOT NULL,\n",
    "    [CabTypeID] INTEGER NOT NULL,\n",
    "    FOREIGN KEY(CabTypeID) REFERENCES CabType(CabTypeID)\n",
    "    );\"\"\"\n",
    "    \n",
    "with conn:\n",
    "    create_table(conn, table_cab_product_type)\n",
    "\n",
    "cab_product_type = []\n",
    "a = 0\n",
    "\n",
    "# Loading data\n",
    "with open('cab_rides.csv') as file:\n",
    "    for line in file:\n",
    "        if a > 0:\n",
    "            row = line.split('\\t')[0].strip().split(',')\n",
    "            if row[1] == 'Lyft':\n",
    "                cabtypeid = 1\n",
    "            elif row[1] == 'Uber':\n",
    "                cabtypeid = 2\n",
    "            cab_product_type.append((row[9],\n",
    "                                     cabtypeid\n",
    "                                    ))\n",
    "        a += 1\n",
    "\n",
    "cab_product_type_sorted = sorted(list(set(cab_product_type)))\n",
    "\n",
    "# Insert Values into the table\n",
    "cur.executemany(\"\"\"INSERT INTO CabProductType (ProductName, CabTypeID) VALUES (?, ?)\"\"\", cab_product_type_sorted)\n",
    "conn.commit()"
   ]
  },
  {
   "cell_type": "code",
   "execution_count": 17,
   "metadata": {},
   "outputs": [
    {
     "data": {
      "text/plain": [
       "[('Shared', 1),\n",
       " ('Lux', 1),\n",
       " ('Lyft', 1),\n",
       " ('Lux Black XL', 1),\n",
       " ('Lyft XL', 1),\n",
       " ('Lux Black', 1),\n",
       " ('Lyft XL', 1),\n",
       " ('Lux Black', 1),\n",
       " ('Shared', 1),\n",
       " ('Lux Black XL', 1)]"
      ]
     },
     "execution_count": 17,
     "metadata": {},
     "output_type": "execute_result"
    }
   ],
   "source": [
    "# Data Check\n",
    "cab_product_type[0:10]"
   ]
  },
  {
   "cell_type": "code",
   "execution_count": 18,
   "metadata": {},
   "outputs": [
    {
     "name": "stdout",
     "output_type": "stream",
     "text": [
      "(13, 3)\n"
     ]
    }
   ],
   "source": [
    "df_cab_product_type = pd.read_sql_query(\"\"\"SELECT * FROM CabProductType\"\"\", conn)\n",
    "print(df_cab_product_type.shape)"
   ]
  },
  {
   "cell_type": "code",
   "execution_count": 19,
   "metadata": {},
   "outputs": [
    {
     "data": {
      "text/html": [
       "<div>\n",
       "<style scoped>\n",
       "    .dataframe tbody tr th:only-of-type {\n",
       "        vertical-align: middle;\n",
       "    }\n",
       "\n",
       "    .dataframe tbody tr th {\n",
       "        vertical-align: top;\n",
       "    }\n",
       "\n",
       "    .dataframe thead th {\n",
       "        text-align: right;\n",
       "    }\n",
       "</style>\n",
       "<table border=\"1\" class=\"dataframe\">\n",
       "  <thead>\n",
       "    <tr style=\"text-align: right;\">\n",
       "      <th></th>\n",
       "      <th>Product_ID</th>\n",
       "      <th>ProductName</th>\n",
       "      <th>CabTypeID</th>\n",
       "    </tr>\n",
       "  </thead>\n",
       "  <tbody>\n",
       "    <tr>\n",
       "      <th>0</th>\n",
       "      <td>1</td>\n",
       "      <td>Black</td>\n",
       "      <td>2</td>\n",
       "    </tr>\n",
       "    <tr>\n",
       "      <th>1</th>\n",
       "      <td>2</td>\n",
       "      <td>Black SUV</td>\n",
       "      <td>2</td>\n",
       "    </tr>\n",
       "    <tr>\n",
       "      <th>2</th>\n",
       "      <td>3</td>\n",
       "      <td>Lux</td>\n",
       "      <td>1</td>\n",
       "    </tr>\n",
       "    <tr>\n",
       "      <th>3</th>\n",
       "      <td>4</td>\n",
       "      <td>Lux Black</td>\n",
       "      <td>1</td>\n",
       "    </tr>\n",
       "    <tr>\n",
       "      <th>4</th>\n",
       "      <td>5</td>\n",
       "      <td>Lux Black XL</td>\n",
       "      <td>1</td>\n",
       "    </tr>\n",
       "    <tr>\n",
       "      <th>5</th>\n",
       "      <td>6</td>\n",
       "      <td>Lyft</td>\n",
       "      <td>1</td>\n",
       "    </tr>\n",
       "    <tr>\n",
       "      <th>6</th>\n",
       "      <td>7</td>\n",
       "      <td>Lyft XL</td>\n",
       "      <td>1</td>\n",
       "    </tr>\n",
       "    <tr>\n",
       "      <th>7</th>\n",
       "      <td>8</td>\n",
       "      <td>Shared</td>\n",
       "      <td>1</td>\n",
       "    </tr>\n",
       "    <tr>\n",
       "      <th>8</th>\n",
       "      <td>9</td>\n",
       "      <td>Taxi</td>\n",
       "      <td>2</td>\n",
       "    </tr>\n",
       "    <tr>\n",
       "      <th>9</th>\n",
       "      <td>10</td>\n",
       "      <td>UberPool</td>\n",
       "      <td>2</td>\n",
       "    </tr>\n",
       "    <tr>\n",
       "      <th>10</th>\n",
       "      <td>11</td>\n",
       "      <td>UberX</td>\n",
       "      <td>2</td>\n",
       "    </tr>\n",
       "    <tr>\n",
       "      <th>11</th>\n",
       "      <td>12</td>\n",
       "      <td>UberXL</td>\n",
       "      <td>2</td>\n",
       "    </tr>\n",
       "    <tr>\n",
       "      <th>12</th>\n",
       "      <td>13</td>\n",
       "      <td>WAV</td>\n",
       "      <td>2</td>\n",
       "    </tr>\n",
       "  </tbody>\n",
       "</table>\n",
       "</div>"
      ],
      "text/plain": [
       "    Product_ID   ProductName  CabTypeID\n",
       "0            1         Black          2\n",
       "1            2     Black SUV          2\n",
       "2            3           Lux          1\n",
       "3            4     Lux Black          1\n",
       "4            5  Lux Black XL          1\n",
       "5            6          Lyft          1\n",
       "6            7       Lyft XL          1\n",
       "7            8        Shared          1\n",
       "8            9          Taxi          2\n",
       "9           10      UberPool          2\n",
       "10          11         UberX          2\n",
       "11          12        UberXL          2\n",
       "12          13           WAV          2"
      ]
     },
     "execution_count": 19,
     "metadata": {},
     "output_type": "execute_result"
    }
   ],
   "source": [
    "df_cab_product_type"
   ]
  },
  {
   "cell_type": "code",
   "execution_count": 20,
   "metadata": {},
   "outputs": [
    {
     "data": {
      "text/plain": [
       "{'Black': 1,\n",
       " 'Black SUV': 2,\n",
       " 'Lux': 3,\n",
       " 'Lux Black': 4,\n",
       " 'Lux Black XL': 5,\n",
       " 'Lyft': 6,\n",
       " 'Lyft XL': 7,\n",
       " 'Shared': 8,\n",
       " 'Taxi': 9,\n",
       " 'UberPool': 10,\n",
       " 'UberX': 11,\n",
       " 'UberXL': 12,\n",
       " 'WAV': 13}"
      ]
     },
     "execution_count": 20,
     "metadata": {},
     "output_type": "execute_result"
    }
   ],
   "source": [
    "product_id_dict = {df_cab_product_type['ProductName'][i]: df_cab_product_type['Product_ID'][i] for i in range(df_cab_product_type.shape[0])}\n",
    "product_id_dict"
   ]
  },
  {
   "cell_type": "markdown",
   "metadata": {},
   "source": [
    "### *5. Creating Weather Table*"
   ]
  },
  {
   "cell_type": "code",
   "execution_count": 21,
   "metadata": {},
   "outputs": [
    {
     "data": {
      "text/plain": [
       "{'Back Bay': 1,\n",
       " 'Beacon Hill': 2,\n",
       " 'Boston University': 3,\n",
       " 'Fenway': 4,\n",
       " 'Financial District': 5,\n",
       " 'Haymarket Square': 6,\n",
       " 'North End': 7,\n",
       " 'North Station': 8,\n",
       " 'Northeastern University': 9,\n",
       " 'South Station': 10,\n",
       " 'Theatre District': 11,\n",
       " 'West End': 12}"
      ]
     },
     "execution_count": 21,
     "metadata": {},
     "output_type": "execute_result"
    }
   ],
   "source": [
    "# Create the dictionary for Location_ID.\n",
    "location_dict = {df_location['Location'][i]: df_location['Location_ID'][i] for i in range(df_location.shape[0])}\n",
    "location_dict"
   ]
  },
  {
   "cell_type": "code",
   "execution_count": 22,
   "metadata": {},
   "outputs": [
    {
     "data": {
      "text/plain": [
       "{('2018-12-16', '18'): 2336,\n",
       " ('2018-11-27', '14'): 3963,\n",
       " ('2018-11-26', '19'): 6010,\n",
       " ('2018-11-28', '19'): 6079,\n",
       " ('2018-12-14', '06'): 4673,\n",
       " ('2018-11-26', '12'): 2070,\n",
       " ('2018-12-03', '04'): 2194,\n",
       " ('2018-12-15', '05'): 4094,\n",
       " ('2018-12-14', '13'): 915,\n",
       " ('2018-12-17', '12'): 92,\n",
       " ('2018-12-17', '21'): 5647,\n",
       " ('2018-12-01', '18'): 5851,\n",
       " ('2018-11-28', '04'): 6160,\n",
       " ('2018-12-15', '13'): 3449,\n",
       " ('2018-12-18', '05'): 386,\n",
       " ('2018-12-09', '21'): 5137,\n",
       " ('2018-12-14', '22'): 5446,\n",
       " ('2018-11-26', '00'): 6093,\n",
       " ('2018-11-29', '14'): 179,\n",
       " ('2018-12-13', '13'): 2727,\n",
       " ('2018-11-25', '23'): 5999,\n",
       " ('2018-11-27', '07'): 5332,\n",
       " ('2018-12-18', '02'): 202,\n",
       " ('2018-11-28', '05'): 5425,\n",
       " ('2018-12-15', '09'): 228,\n",
       " ('2018-12-16', '09'): 1119,\n",
       " ('2018-11-28', '02'): 6170,\n",
       " ('2018-12-01', '15'): 245,\n",
       " ('2018-11-27', '00'): 5768,\n",
       " ('2018-12-14', '11'): 3272,\n",
       " ('2018-11-30', '17'): 294,\n",
       " ('2018-11-28', '17'): 6034,\n",
       " ('2018-11-26', '20'): 5436,\n",
       " ('2018-12-13', '17'): 5930,\n",
       " ('2018-12-17', '01'): 335,\n",
       " ('2018-12-13', '01'): 1283,\n",
       " ('2018-11-26', '01'): 6221,\n",
       " ('2018-11-29', '04'): 372,\n",
       " ('2018-12-15', '11'): 5173,\n",
       " ('2018-12-03', '10'): 4038,\n",
       " ('2018-12-17', '17'): 6264,\n",
       " ('2018-12-18', '07'): 5705,\n",
       " ('2018-11-30', '21'): 5969,\n",
       " ('2018-12-14', '01'): 5075,\n",
       " ('2018-11-29', '09'): 423,\n",
       " ('2018-12-01', '10'): 6106,\n",
       " ('2018-12-15', '20'): 454,\n",
       " ('2018-11-27', '19'): 6192,\n",
       " ('2018-11-28', '21'): 5935,\n",
       " ('2018-12-18', '13'): 3198,\n",
       " ('2018-11-28', '18'): 5300,\n",
       " ('2018-12-13', '15'): 1457,\n",
       " ('2018-11-30', '15'): 4890,\n",
       " ('2018-12-13', '06'): 521,\n",
       " ('2018-11-26', '15'): 5092,\n",
       " ('2018-12-15', '19'): 2068,\n",
       " ('2018-12-14', '04'): 3748,\n",
       " ('2018-12-02', '03'): 5948,\n",
       " ('2018-11-30', '11'): 575,\n",
       " ('2018-11-26', '05'): 5264,\n",
       " ('2018-12-14', '03'): 1802,\n",
       " ('2018-11-28', '23'): 5903,\n",
       " ('2018-12-13', '05'): 5182,\n",
       " ('2018-12-15', '12'): 2991,\n",
       " ('2018-12-02', '15'): 621,\n",
       " ('2018-12-15', '23'): 4312,\n",
       " ('2018-12-16', '06'): 6008,\n",
       " ('2018-11-28', '20'): 5812,\n",
       " ('2018-12-18', '12'): 671,\n",
       " ('2018-12-18', '08'): 6089,\n",
       " ('2018-12-01', '01'): 699,\n",
       " ('2018-11-26', '11'): 4068,\n",
       " ('2018-12-13', '14'): 1834,\n",
       " ('2018-12-03', '05'): 725,\n",
       " ('2018-11-29', '01'): 5607,\n",
       " ('2018-12-16', '20'): 2413,\n",
       " ('2018-12-15', '21'): 746,\n",
       " ('2018-11-28', '09'): 5616,\n",
       " ('2018-12-17', '15'): 4844,\n",
       " ('2018-11-28', '14'): 5395,\n",
       " ('2018-11-27', '15'): 5062,\n",
       " ('2018-11-26', '03'): 5994,\n",
       " ('2018-12-16', '00'): 2455,\n",
       " ('2018-12-13', '12'): 5957,\n",
       " ('2018-12-01', '16'): 927,\n",
       " ('2018-12-13', '16'): 939,\n",
       " ('2018-11-28', '12'): 5841,\n",
       " ('2018-12-13', '02'): 962,\n",
       " ('2018-12-02', '16'): 986,\n",
       " ('2018-12-15', '04'): 2221,\n",
       " ('2018-12-16', '19'): 3568,\n",
       " ('2018-12-02', '18'): 3688,\n",
       " ('2018-12-18', '06'): 2643,\n",
       " ('2018-11-26', '10'): 5373,\n",
       " ('2018-11-28', '08'): 5883,\n",
       " ('2018-12-03', '15'): 1028,\n",
       " ('2018-12-18', '03'): 1040,\n",
       " ('2018-12-03', '07'): 1054,\n",
       " ('2018-12-13', '09'): 1447,\n",
       " ('2018-12-16', '14'): 3456,\n",
       " ('2018-11-26', '08'): 5990,\n",
       " ('2018-11-26', '13'): 3838,\n",
       " ('2018-11-27', '06'): 2089,\n",
       " ('2018-12-01', '00'): 1109,\n",
       " ('2018-11-30', '13'): 1859,\n",
       " ('2018-11-30', '04'): 1131,\n",
       " ('2018-12-15', '00'): 1143,\n",
       " ('2018-12-15', '06'): 1715,\n",
       " ('2018-11-28', '03'): 5986,\n",
       " ('2018-12-13', '03'): 2454,\n",
       " ('2018-12-09', '19'): 1178,\n",
       " ('2018-11-26', '17'): 5595,\n",
       " ('2018-11-29', '11'): 3142,\n",
       " ('2018-12-13', '10'): 2181,\n",
       " ('2018-12-16', '12'): 3412,\n",
       " ('2018-12-13', '23'): 4868,\n",
       " ('2018-11-26', '21'): 5626,\n",
       " ('2018-11-26', '18'): 3375,\n",
       " ('2018-11-27', '11'): 4134,\n",
       " ('2018-12-17', '00'): 1436,\n",
       " ('2018-12-13', '00'): 1265,\n",
       " ('2018-12-03', '21'): 4295,\n",
       " ('2018-12-01', '03'): 1278,\n",
       " ('2018-12-13', '11'): 4636,\n",
       " ('2018-11-28', '16'): 6203,\n",
       " ('2018-12-17', '04'): 3408,\n",
       " ('2018-11-27', '02'): 2031,\n",
       " ('2018-12-18', '10'): 4580,\n",
       " ('2018-11-29', '16'): 4322,\n",
       " ('2018-12-14', '05'): 4845,\n",
       " ('2018-12-16', '15'): 2183,\n",
       " ('2018-12-14', '14'): 1640,\n",
       " ('2018-12-01', '17'): 4963,\n",
       " ('2018-12-01', '13'): 1502,\n",
       " ('2018-11-29', '23'): 4998,\n",
       " ('2018-11-28', '11'): 4660,\n",
       " ('2018-11-30', '09'): 1548,\n",
       " ('2018-11-28', '15'): 5583,\n",
       " ('2018-12-16', '11'): 5776,\n",
       " ('2018-12-16', '16'): 1574,\n",
       " ('2018-12-02', '10'): 1592,\n",
       " ('2018-11-28', '07'): 5015,\n",
       " ('2018-11-29', '00'): 2167,\n",
       " ('2018-12-16', '04'): 4309,\n",
       " ('2018-11-28', '22'): 5026,\n",
       " ('2018-12-13', '21'): 5892,\n",
       " ('2018-12-15', '22'): 1660,\n",
       " ('2018-11-26', '16'): 5544,\n",
       " ('2018-12-14', '23'): 4139,\n",
       " ('2018-12-02', '19'): 1688,\n",
       " ('2018-11-26', '14'): 2420,\n",
       " ('2018-11-26', '04'): 6216,\n",
       " ('2018-11-28', '01'): 2390,\n",
       " ('2018-12-01', '09'): 1735,\n",
       " ('2018-11-29', '10'): 1747,\n",
       " ('2018-12-14', '15'): 3364,\n",
       " ('2018-12-03', '13'): 1774,\n",
       " ('2018-12-15', '17'): 2755,\n",
       " ('2018-12-17', '13'): 2383,\n",
       " ('2018-12-13', '18'): 2182,\n",
       " ('2018-11-30', '19'): 1848,\n",
       " ('2018-11-28', '06'): 4751,\n",
       " ('2018-11-30', '22'): 1900,\n",
       " ('2018-11-26', '09'): 5547,\n",
       " ('2018-12-16', '08'): 1997,\n",
       " ('2018-11-26', '02'): 4804,\n",
       " ('2018-12-02', '20'): 1985,\n",
       " ('2018-11-28', '13'): 5951,\n",
       " ('2018-12-02', '12'): 2043,\n",
       " ('2018-11-27', '13'): 5875,\n",
       " ('2018-12-01', '22'): 5455,\n",
       " ('2018-11-27', '04'): 4247,\n",
       " ('2018-11-27', '12'): 4609,\n",
       " ('2018-11-26', '07'): 5350,\n",
       " ('2018-12-13', '04'): 2164,\n",
       " ('2018-12-13', '20'): 5492,\n",
       " ('2018-12-03', '06'): 2179,\n",
       " ('2018-11-30', '00'): 2206,\n",
       " ('2018-12-01', '21'): 2233,\n",
       " ('2018-12-14', '07'): 4327,\n",
       " ('2018-12-12', '22'): 5574,\n",
       " ('2018-12-16', '03'): 2268,\n",
       " ('2018-11-29', '08'): 4927,\n",
       " ('2018-11-30', '10'): 2314,\n",
       " ('2018-11-27', '01'): 4220,\n",
       " ('2018-12-03', '18'): 3544,\n",
       " ('2018-12-02', '14'): 4196,\n",
       " ('2018-11-30', '12'): 2348,\n",
       " ('2018-11-28', '10'): 6045,\n",
       " ('2018-12-18', '04'): 6202,\n",
       " ('2018-11-29', '17'): 2472,\n",
       " ('2018-12-16', '23'): 4566,\n",
       " ('2018-11-27', '10'): 6124,\n",
       " ('2018-11-25', '22'): 4004,\n",
       " ('2018-12-13', '08'): 2816,\n",
       " ('2018-12-16', '02'): 3607,\n",
       " ('2018-12-17', '08'): 6251,\n",
       " ('2018-11-26', '06'): 6057,\n",
       " ('2018-11-30', '03'): 3673,\n",
       " ('2018-11-27', '03'): 3898,\n",
       " ('2018-12-01', '11'): 2634,\n",
       " ('2018-12-17', '07'): 2747,\n",
       " ('2018-12-15', '10'): 3928,\n",
       " ('2018-11-27', '08'): 4092,\n",
       " ('2018-11-27', '05'): 3389,\n",
       " ('2018-12-17', '06'): 5061,\n",
       " ('2018-12-15', '08'): 4703,\n",
       " ('2018-12-01', '06'): 2739,\n",
       " ('2018-12-15', '14'): 5729,\n",
       " ('2018-11-29', '05'): 2773,\n",
       " ('2018-12-17', '19'): 4695,\n",
       " ('2018-12-01', '14'): 2799,\n",
       " ('2018-12-03', '00'): 2828,\n",
       " ('2018-12-09', '18'): 5799,\n",
       " ('2018-12-17', '11'): 5172,\n",
       " ('2018-12-17', '10'): 3938,\n",
       " ('2018-12-17', '05'): 2954,\n",
       " ('2018-11-29', '03'): 3409,\n",
       " ('2018-12-17', '18'): 2988,\n",
       " ('2018-12-02', '09'): 3003,\n",
       " ('2018-11-30', '08'): 3015,\n",
       " ('2018-11-26', '22'): 4545,\n",
       " ('2018-12-02', '02'): 3102,\n",
       " ('2018-12-16', '07'): 5192,\n",
       " ('2018-12-01', '23'): 3128,\n",
       " ('2018-12-03', '12'): 3154,\n",
       " ('2018-12-12', '23'): 4672,\n",
       " ('2018-12-15', '16'): 3463,\n",
       " ('2018-12-03', '14'): 3210,\n",
       " ('2018-11-30', '18'): 3222,\n",
       " ('2018-11-29', '20'): 3234,\n",
       " ('2018-11-30', '06'): 6232,\n",
       " ('2018-12-02', '21'): 3264,\n",
       " ('2018-12-15', '15'): 5848,\n",
       " ('2018-12-03', '02'): 3284,\n",
       " ('2018-12-16', '17'): 6000,\n",
       " ('2018-12-14', '09'): 3314,\n",
       " ('2018-11-30', '01'): 3326,\n",
       " ('2018-11-26', '23'): 4792,\n",
       " ('2018-11-29', '21'): 3362,\n",
       " ('2018-11-27', '09'): 4151,\n",
       " ('2018-12-14', '19'): 5046,\n",
       " ('2018-12-01', '12'): 3424,\n",
       " ('2018-12-17', '23'): 4417,\n",
       " ('2018-12-14', '02'): 3443,\n",
       " ('2018-12-09', '20'): 3697,\n",
       " ('2018-11-27', '18'): 4987,\n",
       " ('2018-12-16', '01'): 4815,\n",
       " ('2018-12-18', '00'): 3585,\n",
       " ('2018-12-17', '14'): 4505,\n",
       " ('2018-12-16', '21'): 4122,\n",
       " ('2018-11-27', '17'): 3773,\n",
       " ('2018-12-13', '07'): 4884,\n",
       " ('2018-12-14', '18'): 5361,\n",
       " ('2018-12-15', '03'): 3951,\n",
       " ('2018-11-30', '23'): 5769,\n",
       " ('2018-12-18', '11'): 5113,\n",
       " ('2018-12-03', '20'): 3741,\n",
       " ('2018-12-02', '01'): 3785,\n",
       " ('2018-12-02', '11'): 3797,\n",
       " ('2018-12-14', '08'): 5934,\n",
       " ('2018-12-15', '02'): 3817,\n",
       " ('2018-12-02', '23'): 3862,\n",
       " ('2018-12-15', '01'): 5767,\n",
       " ('2018-11-29', '19'): 3886,\n",
       " ('2018-11-30', '02'): 3916,\n",
       " ('2018-12-16', '10'): 3950,\n",
       " ('2018-11-29', '13'): 3981,\n",
       " ('2018-12-02', '13'): 4050,\n",
       " ('2018-12-16', '13'): 4062,\n",
       " ('2018-12-03', '03'): 4080,\n",
       " ('2018-12-14', '20'): 4175,\n",
       " ('2018-12-01', '08'): 4208,\n",
       " ('2018-11-30', '14'): 4232,\n",
       " ('2018-12-18', '09'): 4259,\n",
       " ('2018-12-16', '05'): 4915,\n",
       " ('2018-12-03', '16'): 4284,\n",
       " ('2018-12-01', '20'): 4345,\n",
       " ('2018-11-29', '02'): 4363,\n",
       " ('2018-11-29', '12'): 4375,\n",
       " ('2018-12-17', '20'): 4394,\n",
       " ('2018-12-14', '10'): 5809,\n",
       " ('2018-12-17', '16'): 4584,\n",
       " ('2018-12-16', '22'): 4457,\n",
       " ('2018-12-15', '18'): 4517,\n",
       " ('2018-11-27', '16'): 5394,\n",
       " ('2018-11-29', '22'): 4557,\n",
       " ('2018-12-14', '16'): 5978,\n",
       " ('2018-12-01', '07'): 4715,\n",
       " ('2018-12-03', '08'): 4766,\n",
       " ('2018-11-29', '15'): 4833,\n",
       " ('2018-12-01', '05'): 5764,\n",
       " ('2018-12-14', '00'): 4864,\n",
       " ('2018-12-14', '21'): 5159,\n",
       " ('2018-11-29', '18'): 5787,\n",
       " ('2018-12-01', '02'): 4939,\n",
       " ('2018-12-02', '00'): 4975,\n",
       " ('2018-12-04', '00'): 5038,\n",
       " ('2018-12-01', '19'): 5109,\n",
       " ('2018-12-03', '22'): 5125,\n",
       " ('2018-12-03', '09'): 5319,\n",
       " ('2018-12-02', '07'): 5230,\n",
       " ('2018-12-17', '22'): 5288,\n",
       " ('2018-11-30', '16'): 5318,\n",
       " ('2018-12-15', '07'): 6067,\n",
       " ('2018-12-03', '11'): 5348,\n",
       " ('2018-12-17', '02'): 5476,\n",
       " ('2018-11-29', '07'): 6104,\n",
       " ('2018-12-14', '17'): 5569,\n",
       " ('2018-12-02', '04'): 5467,\n",
       " ('2018-12-03', '23'): 5489,\n",
       " ('2018-12-17', '09'): 5912,\n",
       " ('2018-11-30', '20'): 5539,\n",
       " ('2018-12-17', '03'): 5567,\n",
       " ('2018-12-14', '12'): 5658,\n",
       " ('2018-12-02', '08'): 5642,\n",
       " ('2018-11-30', '07'): 5682,\n",
       " ('2018-12-18', '01'): 5694,\n",
       " ('2018-12-02', '05'): 5721,\n",
       " ('2018-12-03', '17'): 5828,\n",
       " ('2018-12-13', '22'): 5840,\n",
       " ('2018-12-03', '19'): 5924,\n",
       " ('2018-12-13', '19'): 5947,\n",
       " ('2018-12-02', '22'): 6136,\n",
       " ('2018-11-29', '06'): 6148,\n",
       " ('2018-11-30', '05'): 6182,\n",
       " ('2018-12-02', '17'): 6215,\n",
       " ('2018-12-01', '04'): 6244,\n",
       " ('2018-12-02', '06'): 6263,\n",
       " ('2018-12-03', '01'): 6276}"
      ]
     },
     "execution_count": 22,
     "metadata": {},
     "output_type": "execute_result"
    }
   ],
   "source": [
    "# Create the dictionary for Timestamp_ID.\n",
    "timestamp_dict = {(df_timestamp['Date'][i], df_timestamp['Hour'][i]): df_timestamp['Timestamp_ID'][i] for i in range(df_timestamp.shape[0])}\n",
    "timestamp_dict"
   ]
  },
  {
   "cell_type": "code",
   "execution_count": 23,
   "metadata": {},
   "outputs": [],
   "source": [
    "# Create table statement\n",
    "table_weather = \"\"\"CREATE TABLE [Weather] (\n",
    "    [Weather_ID] INTEGER NOT NULL PRIMARY KEY,\n",
    "    [Timestamp_ID] INTEGER NOT NULL,\n",
    "    [Location_ID] INTEGER NOT NULL,\n",
    "    [Temp] FLOAT NOT NULL,\n",
    "    [Clouds] FLOAT NOT NULL,\n",
    "    [Pressure] FLOAT NOT NULL,\n",
    "    [Rain] FLOAT NOT NULL,\n",
    "    [Humidity] FLOAT NOT NULL,\n",
    "    [Wind] FLOAT NOT NULL,\n",
    "    FOREIGN KEY(Location_ID) REFERENCES Location(Location_ID) FOREIGN KEY(Timestamp_ID) REFERENCES Timestamp(Timestamp_ID)\n",
    "    );\"\"\"\n",
    "    \n",
    "with conn:\n",
    "    create_table(conn, table_weather)\n",
    "\n",
    "weather = []\n",
    "a = 0\n",
    "\n",
    "# Load Data\n",
    "with open('weather.csv') as file:\n",
    "    for line in file:\n",
    "        if a > 0:\n",
    "            row = line.split('\\t')[0].strip().split(',')\n",
    "            timestamp = int(row[5])\n",
    "            date = datetime.datetime.fromtimestamp(timestamp)\n",
    "            temp = date.strftime(\"%Y-%m-%d %H\").split(' ')\n",
    "            if row[4] == '':\n",
    "                weather.append((int(timestamp_dict.get((temp[0], temp[1]))),\n",
    "                                int(location_dict.get(row[1])),\n",
    "                                float(row[0]),\n",
    "                                float(row[2]),\n",
    "                                float(row[3]),\n",
    "                                float(0),\n",
    "                                float(row[6]),\n",
    "                                float(row[7])\n",
    "                               ))\n",
    "            else:\n",
    "                weather.append((int(timestamp_dict.get((temp[0], temp[1]))),\n",
    "                                int(location_dict.get(row[1])),\n",
    "                                float(row[0]),\n",
    "                                float(row[2]),\n",
    "                                float(row[3]),\n",
    "                                float(row[4]),\n",
    "                                float(row[6]),\n",
    "                                float(row[7])\n",
    "                               ))\n",
    "        a += 1\n",
    "# Insert Values into table\n",
    "cur.executemany(\"\"\"INSERT INTO Weather (Timestamp_ID, Location_ID, Temp, Clouds, Pressure, Rain, Humidity, Wind) VALUES (?, ?, ?, ?, ?, ?, ?, ?)\"\"\", weather)\n",
    "conn.commit()"
   ]
  },
  {
   "cell_type": "code",
   "execution_count": 24,
   "metadata": {},
   "outputs": [
    {
     "data": {
      "text/plain": [
       "6276"
      ]
     },
     "execution_count": 24,
     "metadata": {},
     "output_type": "execute_result"
    }
   ],
   "source": [
    "# Data Check\n",
    "len(weather)"
   ]
  },
  {
   "cell_type": "code",
   "execution_count": 25,
   "metadata": {},
   "outputs": [
    {
     "data": {
      "text/plain": [
       "[(2336, 1, 42.42, 1.0, 1012.14, 0.1228, 0.77, 11.25),\n",
       " (2336, 2, 42.43, 1.0, 1012.15, 0.1846, 0.76, 11.32),\n",
       " (2336, 3, 42.5, 1.0, 1012.15, 0.1089, 0.76, 11.07),\n",
       " (2336, 4, 42.11, 1.0, 1012.13, 0.0969, 0.77, 11.09),\n",
       " (2336, 5, 43.13, 1.0, 1012.14, 0.1786, 0.75, 11.49),\n",
       " (2336, 6, 42.34, 1.0, 1012.15, 0.2068, 0.77, 11.49),\n",
       " (2336, 7, 42.36, 1.0, 1012.15, 0.2088, 0.77, 11.46),\n",
       " (2336, 8, 42.21, 1.0, 1012.16, 0.2069, 0.77, 11.37),\n",
       " (2336, 9, 42.07, 1.0, 1012.12, 0.102, 0.78, 11.28),\n",
       " (2336, 10, 43.05, 1.0, 1012.12, 0.1547, 0.75, 11.58)]"
      ]
     },
     "execution_count": 25,
     "metadata": {},
     "output_type": "execute_result"
    }
   ],
   "source": [
    "weather[0:10]"
   ]
  },
  {
   "cell_type": "code",
   "execution_count": 26,
   "metadata": {},
   "outputs": [
    {
     "name": "stdout",
     "output_type": "stream",
     "text": [
      "(6276, 9)\n"
     ]
    }
   ],
   "source": [
    "df_weather = pd.read_sql_query(\"\"\"SELECT * FROM Weather\"\"\", conn)\n",
    "print(df_weather.shape)"
   ]
  },
  {
   "cell_type": "code",
   "execution_count": 27,
   "metadata": {},
   "outputs": [
    {
     "data": {
      "text/html": [
       "<div>\n",
       "<style scoped>\n",
       "    .dataframe tbody tr th:only-of-type {\n",
       "        vertical-align: middle;\n",
       "    }\n",
       "\n",
       "    .dataframe tbody tr th {\n",
       "        vertical-align: top;\n",
       "    }\n",
       "\n",
       "    .dataframe thead th {\n",
       "        text-align: right;\n",
       "    }\n",
       "</style>\n",
       "<table border=\"1\" class=\"dataframe\">\n",
       "  <thead>\n",
       "    <tr style=\"text-align: right;\">\n",
       "      <th></th>\n",
       "      <th>Weather_ID</th>\n",
       "      <th>Timestamp_ID</th>\n",
       "      <th>Location_ID</th>\n",
       "      <th>Temp</th>\n",
       "      <th>Clouds</th>\n",
       "      <th>Pressure</th>\n",
       "      <th>Rain</th>\n",
       "      <th>Humidity</th>\n",
       "      <th>Wind</th>\n",
       "    </tr>\n",
       "  </thead>\n",
       "  <tbody>\n",
       "    <tr>\n",
       "      <th>0</th>\n",
       "      <td>1</td>\n",
       "      <td>2336</td>\n",
       "      <td>1</td>\n",
       "      <td>42.42</td>\n",
       "      <td>1.00</td>\n",
       "      <td>1012.14</td>\n",
       "      <td>0.1228</td>\n",
       "      <td>0.77</td>\n",
       "      <td>11.25</td>\n",
       "    </tr>\n",
       "    <tr>\n",
       "      <th>1</th>\n",
       "      <td>2</td>\n",
       "      <td>2336</td>\n",
       "      <td>2</td>\n",
       "      <td>42.43</td>\n",
       "      <td>1.00</td>\n",
       "      <td>1012.15</td>\n",
       "      <td>0.1846</td>\n",
       "      <td>0.76</td>\n",
       "      <td>11.32</td>\n",
       "    </tr>\n",
       "    <tr>\n",
       "      <th>2</th>\n",
       "      <td>3</td>\n",
       "      <td>2336</td>\n",
       "      <td>3</td>\n",
       "      <td>42.50</td>\n",
       "      <td>1.00</td>\n",
       "      <td>1012.15</td>\n",
       "      <td>0.1089</td>\n",
       "      <td>0.76</td>\n",
       "      <td>11.07</td>\n",
       "    </tr>\n",
       "    <tr>\n",
       "      <th>3</th>\n",
       "      <td>4</td>\n",
       "      <td>2336</td>\n",
       "      <td>4</td>\n",
       "      <td>42.11</td>\n",
       "      <td>1.00</td>\n",
       "      <td>1012.13</td>\n",
       "      <td>0.0969</td>\n",
       "      <td>0.77</td>\n",
       "      <td>11.09</td>\n",
       "    </tr>\n",
       "    <tr>\n",
       "      <th>4</th>\n",
       "      <td>5</td>\n",
       "      <td>2336</td>\n",
       "      <td>5</td>\n",
       "      <td>43.13</td>\n",
       "      <td>1.00</td>\n",
       "      <td>1012.14</td>\n",
       "      <td>0.1786</td>\n",
       "      <td>0.75</td>\n",
       "      <td>11.49</td>\n",
       "    </tr>\n",
       "    <tr>\n",
       "      <th>...</th>\n",
       "      <td>...</td>\n",
       "      <td>...</td>\n",
       "      <td>...</td>\n",
       "      <td>...</td>\n",
       "      <td>...</td>\n",
       "      <td>...</td>\n",
       "      <td>...</td>\n",
       "      <td>...</td>\n",
       "      <td>...</td>\n",
       "    </tr>\n",
       "    <tr>\n",
       "      <th>6271</th>\n",
       "      <td>6272</td>\n",
       "      <td>6276</td>\n",
       "      <td>8</td>\n",
       "      <td>44.72</td>\n",
       "      <td>0.89</td>\n",
       "      <td>1000.69</td>\n",
       "      <td>0.0000</td>\n",
       "      <td>0.96</td>\n",
       "      <td>1.52</td>\n",
       "    </tr>\n",
       "    <tr>\n",
       "      <th>6272</th>\n",
       "      <td>6273</td>\n",
       "      <td>6276</td>\n",
       "      <td>9</td>\n",
       "      <td>44.85</td>\n",
       "      <td>0.88</td>\n",
       "      <td>1000.71</td>\n",
       "      <td>0.0000</td>\n",
       "      <td>0.96</td>\n",
       "      <td>1.54</td>\n",
       "    </tr>\n",
       "    <tr>\n",
       "      <th>6273</th>\n",
       "      <td>6274</td>\n",
       "      <td>6276</td>\n",
       "      <td>10</td>\n",
       "      <td>44.82</td>\n",
       "      <td>0.89</td>\n",
       "      <td>1000.70</td>\n",
       "      <td>0.0000</td>\n",
       "      <td>0.96</td>\n",
       "      <td>1.54</td>\n",
       "    </tr>\n",
       "    <tr>\n",
       "      <th>6274</th>\n",
       "      <td>6275</td>\n",
       "      <td>6276</td>\n",
       "      <td>11</td>\n",
       "      <td>44.78</td>\n",
       "      <td>0.89</td>\n",
       "      <td>1000.70</td>\n",
       "      <td>0.0000</td>\n",
       "      <td>0.96</td>\n",
       "      <td>1.54</td>\n",
       "    </tr>\n",
       "    <tr>\n",
       "      <th>6275</th>\n",
       "      <td>6276</td>\n",
       "      <td>6276</td>\n",
       "      <td>12</td>\n",
       "      <td>44.69</td>\n",
       "      <td>0.89</td>\n",
       "      <td>1000.70</td>\n",
       "      <td>0.0000</td>\n",
       "      <td>0.96</td>\n",
       "      <td>1.52</td>\n",
       "    </tr>\n",
       "  </tbody>\n",
       "</table>\n",
       "<p>6276 rows × 9 columns</p>\n",
       "</div>"
      ],
      "text/plain": [
       "      Weather_ID  Timestamp_ID  Location_ID   Temp  Clouds  Pressure    Rain  \\\n",
       "0              1          2336            1  42.42    1.00   1012.14  0.1228   \n",
       "1              2          2336            2  42.43    1.00   1012.15  0.1846   \n",
       "2              3          2336            3  42.50    1.00   1012.15  0.1089   \n",
       "3              4          2336            4  42.11    1.00   1012.13  0.0969   \n",
       "4              5          2336            5  43.13    1.00   1012.14  0.1786   \n",
       "...          ...           ...          ...    ...     ...       ...     ...   \n",
       "6271        6272          6276            8  44.72    0.89   1000.69  0.0000   \n",
       "6272        6273          6276            9  44.85    0.88   1000.71  0.0000   \n",
       "6273        6274          6276           10  44.82    0.89   1000.70  0.0000   \n",
       "6274        6275          6276           11  44.78    0.89   1000.70  0.0000   \n",
       "6275        6276          6276           12  44.69    0.89   1000.70  0.0000   \n",
       "\n",
       "      Humidity   Wind  \n",
       "0         0.77  11.25  \n",
       "1         0.76  11.32  \n",
       "2         0.76  11.07  \n",
       "3         0.77  11.09  \n",
       "4         0.75  11.49  \n",
       "...        ...    ...  \n",
       "6271      0.96   1.52  \n",
       "6272      0.96   1.54  \n",
       "6273      0.96   1.54  \n",
       "6274      0.96   1.54  \n",
       "6275      0.96   1.52  \n",
       "\n",
       "[6276 rows x 9 columns]"
      ]
     },
     "execution_count": 27,
     "metadata": {},
     "output_type": "execute_result"
    }
   ],
   "source": [
    "df_weather"
   ]
  },
  {
   "cell_type": "markdown",
   "metadata": {},
   "source": [
    "### *6. Creating RideDetail Table*"
   ]
  },
  {
   "cell_type": "code",
   "execution_count": 28,
   "metadata": {},
   "outputs": [],
   "source": [
    "# Create table statement\n",
    "table_ridedetail = \"\"\"CREATE TABLE [RideDetail] (\n",
    "    [Ride_ID] INTEGER NOT NULL PRIMARY KEY,\n",
    "    [Timestamp_ID] INTEGER NOT NULL,\n",
    "    [Source_ID] INTEGER NOT NULL,\n",
    "    [Destination_ID] INTEGER NOT NULL,\n",
    "    [CabTypeID] INTEGER NOT NULL,\n",
    "    [Product_ID] INTEGER NOT NULL,\n",
    "    [Distance] FLOAT NOT NULL,\n",
    "    [Price] FLOAT NOT NULL,\n",
    "    FOREIGN KEY(Timestamp_ID) REFERENCES Timestamp(Timestamp_ID) FOREIGN KEY(CabTypeID) REFERENCES CabType(CabTypeID) FOREIGN KEY(Product_ID) REFERENCES CabProductType(Product_ID) FOREIGN KEY(Source_ID) REFERENCES Location(Location_ID) FOREIGN KEY(Destination_ID) REFERENCES Location(Location_ID)\n",
    "    );\"\"\"\n",
    "    \n",
    "with conn:\n",
    "    create_table(conn, table_ridedetail)\n",
    "\n",
    "ridedetail = []\n",
    "a = 0\n",
    "\n",
    "# Load Data\n",
    "with open('cab_rides.csv') as file:\n",
    "    for line in file:\n",
    "        if a > 0:\n",
    "            row = line.split('\\t')[0].strip().split(',')\n",
    "            timestamp = int(row[2])\n",
    "            date = datetime.datetime.fromtimestamp(timestamp / 1000)\n",
    "            temp = date.strftime(\"%Y-%m-%d %H\").split(' ')\n",
    "                \n",
    "            if row[1] == 'Lyft':\n",
    "                cabtypeid = 1\n",
    "            elif row[1] == 'Uber':\n",
    "                cabtypeid = 2\n",
    "                \n",
    "            if row[5] != '':\n",
    "                try:\n",
    "                    ridedetail.append((int(timestamp_dict.get((temp[0], temp[1]))),\n",
    "                                       int(location_dict.get(row[4])),\n",
    "                                       int(location_dict.get(row[3])),\n",
    "                                       int(cabtypeid),\n",
    "                                       int(product_id_dict.get(row[9])),\n",
    "                                       float(row[0]),\n",
    "                                       float(row[5])\n",
    "                                       ))\n",
    "                except:\n",
    "                    pass\n",
    "        a += 1\n",
    "\n",
    "# Insert values into table\n",
    "cur.executemany(\"\"\"INSERT INTO RideDetail (Timestamp_ID, Source_ID, Destination_ID, CabtypeID, Product_ID, Distance, Price) VALUES (?, ?, ?, ?, ?, ?, ?)\"\"\", ridedetail)\n",
    "conn.commit()"
   ]
  },
  {
   "cell_type": "code",
   "execution_count": 29,
   "metadata": {},
   "outputs": [
    {
     "data": {
      "text/plain": [
       "[(4309, 6, 8, 1, 8, 0.44, 5.0),\n",
       " (5626, 6, 8, 1, 3, 0.44, 11.0),\n",
       " (4998, 6, 8, 1, 5, 0.44, 26.0),\n",
       " (5026, 6, 8, 1, 7, 0.44, 9.0),\n",
       " (2383, 6, 8, 1, 4, 0.44, 16.5),\n",
       " (6093, 1, 9, 1, 7, 1.08, 10.5),\n",
       " (4196, 1, 9, 1, 4, 1.08, 16.5),\n",
       " (6276, 1, 9, 1, 8, 1.08, 3.0),\n",
       " (3389, 1, 9, 1, 5, 1.08, 27.5),\n",
       " (575, 1, 9, 1, 3, 1.08, 13.5)]"
      ]
     },
     "execution_count": 29,
     "metadata": {},
     "output_type": "execute_result"
    }
   ],
   "source": [
    "# Data Check\n",
    "ridedetail[0:10]"
   ]
  },
  {
   "cell_type": "code",
   "execution_count": 30,
   "metadata": {},
   "outputs": [
    {
     "name": "stdout",
     "output_type": "stream",
     "text": [
      "(635242, 8)\n"
     ]
    }
   ],
   "source": [
    "df_ride_detail = pd.read_sql_query(\"\"\"SELECT * FROM RideDetail\"\"\", conn)\n",
    "print(df_ride_detail.shape)"
   ]
  },
  {
   "cell_type": "code",
   "execution_count": 31,
   "metadata": {},
   "outputs": [
    {
     "data": {
      "text/html": [
       "<div>\n",
       "<style scoped>\n",
       "    .dataframe tbody tr th:only-of-type {\n",
       "        vertical-align: middle;\n",
       "    }\n",
       "\n",
       "    .dataframe tbody tr th {\n",
       "        vertical-align: top;\n",
       "    }\n",
       "\n",
       "    .dataframe thead th {\n",
       "        text-align: right;\n",
       "    }\n",
       "</style>\n",
       "<table border=\"1\" class=\"dataframe\">\n",
       "  <thead>\n",
       "    <tr style=\"text-align: right;\">\n",
       "      <th></th>\n",
       "      <th>Ride_ID</th>\n",
       "      <th>Timestamp_ID</th>\n",
       "      <th>Source_ID</th>\n",
       "      <th>Destination_ID</th>\n",
       "      <th>CabTypeID</th>\n",
       "      <th>Product_ID</th>\n",
       "      <th>Distance</th>\n",
       "      <th>Price</th>\n",
       "    </tr>\n",
       "  </thead>\n",
       "  <tbody>\n",
       "    <tr>\n",
       "      <th>0</th>\n",
       "      <td>1</td>\n",
       "      <td>4309</td>\n",
       "      <td>6</td>\n",
       "      <td>8</td>\n",
       "      <td>1</td>\n",
       "      <td>8</td>\n",
       "      <td>0.44</td>\n",
       "      <td>5.0</td>\n",
       "    </tr>\n",
       "    <tr>\n",
       "      <th>1</th>\n",
       "      <td>2</td>\n",
       "      <td>5626</td>\n",
       "      <td>6</td>\n",
       "      <td>8</td>\n",
       "      <td>1</td>\n",
       "      <td>3</td>\n",
       "      <td>0.44</td>\n",
       "      <td>11.0</td>\n",
       "    </tr>\n",
       "    <tr>\n",
       "      <th>2</th>\n",
       "      <td>3</td>\n",
       "      <td>4998</td>\n",
       "      <td>6</td>\n",
       "      <td>8</td>\n",
       "      <td>1</td>\n",
       "      <td>5</td>\n",
       "      <td>0.44</td>\n",
       "      <td>26.0</td>\n",
       "    </tr>\n",
       "    <tr>\n",
       "      <th>3</th>\n",
       "      <td>4</td>\n",
       "      <td>5026</td>\n",
       "      <td>6</td>\n",
       "      <td>8</td>\n",
       "      <td>1</td>\n",
       "      <td>7</td>\n",
       "      <td>0.44</td>\n",
       "      <td>9.0</td>\n",
       "    </tr>\n",
       "    <tr>\n",
       "      <th>4</th>\n",
       "      <td>5</td>\n",
       "      <td>2383</td>\n",
       "      <td>6</td>\n",
       "      <td>8</td>\n",
       "      <td>1</td>\n",
       "      <td>4</td>\n",
       "      <td>0.44</td>\n",
       "      <td>16.5</td>\n",
       "    </tr>\n",
       "    <tr>\n",
       "      <th>...</th>\n",
       "      <td>...</td>\n",
       "      <td>...</td>\n",
       "      <td>...</td>\n",
       "      <td>...</td>\n",
       "      <td>...</td>\n",
       "      <td>...</td>\n",
       "      <td>...</td>\n",
       "      <td>...</td>\n",
       "    </tr>\n",
       "    <tr>\n",
       "      <th>635237</th>\n",
       "      <td>635238</td>\n",
       "      <td>5851</td>\n",
       "      <td>12</td>\n",
       "      <td>7</td>\n",
       "      <td>2</td>\n",
       "      <td>13</td>\n",
       "      <td>1.00</td>\n",
       "      <td>9.5</td>\n",
       "    </tr>\n",
       "    <tr>\n",
       "      <th>635238</th>\n",
       "      <td>635239</td>\n",
       "      <td>5851</td>\n",
       "      <td>12</td>\n",
       "      <td>7</td>\n",
       "      <td>2</td>\n",
       "      <td>12</td>\n",
       "      <td>1.00</td>\n",
       "      <td>13.0</td>\n",
       "    </tr>\n",
       "    <tr>\n",
       "      <th>635239</th>\n",
       "      <td>635240</td>\n",
       "      <td>5851</td>\n",
       "      <td>12</td>\n",
       "      <td>7</td>\n",
       "      <td>2</td>\n",
       "      <td>11</td>\n",
       "      <td>1.00</td>\n",
       "      <td>9.5</td>\n",
       "    </tr>\n",
       "    <tr>\n",
       "      <th>635240</th>\n",
       "      <td>635241</td>\n",
       "      <td>5851</td>\n",
       "      <td>12</td>\n",
       "      <td>7</td>\n",
       "      <td>2</td>\n",
       "      <td>2</td>\n",
       "      <td>1.00</td>\n",
       "      <td>27.0</td>\n",
       "    </tr>\n",
       "    <tr>\n",
       "      <th>635241</th>\n",
       "      <td>635242</td>\n",
       "      <td>5851</td>\n",
       "      <td>12</td>\n",
       "      <td>7</td>\n",
       "      <td>2</td>\n",
       "      <td>10</td>\n",
       "      <td>1.00</td>\n",
       "      <td>10.0</td>\n",
       "    </tr>\n",
       "  </tbody>\n",
       "</table>\n",
       "<p>635242 rows × 8 columns</p>\n",
       "</div>"
      ],
      "text/plain": [
       "        Ride_ID  Timestamp_ID  Source_ID  Destination_ID  CabTypeID  \\\n",
       "0             1          4309          6               8          1   \n",
       "1             2          5626          6               8          1   \n",
       "2             3          4998          6               8          1   \n",
       "3             4          5026          6               8          1   \n",
       "4             5          2383          6               8          1   \n",
       "...         ...           ...        ...             ...        ...   \n",
       "635237   635238          5851         12               7          2   \n",
       "635238   635239          5851         12               7          2   \n",
       "635239   635240          5851         12               7          2   \n",
       "635240   635241          5851         12               7          2   \n",
       "635241   635242          5851         12               7          2   \n",
       "\n",
       "        Product_ID  Distance  Price  \n",
       "0                8      0.44    5.0  \n",
       "1                3      0.44   11.0  \n",
       "2                5      0.44   26.0  \n",
       "3                7      0.44    9.0  \n",
       "4                4      0.44   16.5  \n",
       "...            ...       ...    ...  \n",
       "635237          13      1.00    9.5  \n",
       "635238          12      1.00   13.0  \n",
       "635239          11      1.00    9.5  \n",
       "635240           2      1.00   27.0  \n",
       "635241          10      1.00   10.0  \n",
       "\n",
       "[635242 rows x 8 columns]"
      ]
     },
     "execution_count": 31,
     "metadata": {},
     "output_type": "execute_result"
    }
   ],
   "source": [
    "df_ride_detail"
   ]
  },
  {
   "cell_type": "code",
   "execution_count": null,
   "metadata": {},
   "outputs": [],
   "source": []
  },
  {
   "cell_type": "code",
   "execution_count": 32,
   "metadata": {},
   "outputs": [
    {
     "data": {
      "text/html": [
       "<div>\n",
       "<style scoped>\n",
       "    .dataframe tbody tr th:only-of-type {\n",
       "        vertical-align: middle;\n",
       "    }\n",
       "\n",
       "    .dataframe tbody tr th {\n",
       "        vertical-align: top;\n",
       "    }\n",
       "\n",
       "    .dataframe thead th {\n",
       "        text-align: right;\n",
       "    }\n",
       "</style>\n",
       "<table border=\"1\" class=\"dataframe\">\n",
       "  <thead>\n",
       "    <tr style=\"text-align: right;\">\n",
       "      <th></th>\n",
       "      <th>Cab Type</th>\n",
       "      <th>Market Share</th>\n",
       "    </tr>\n",
       "  </thead>\n",
       "  <tbody>\n",
       "    <tr>\n",
       "      <th>0</th>\n",
       "      <td>Lyft</td>\n",
       "      <td>306102</td>\n",
       "    </tr>\n",
       "    <tr>\n",
       "      <th>1</th>\n",
       "      <td>Uber</td>\n",
       "      <td>329140</td>\n",
       "    </tr>\n",
       "  </tbody>\n",
       "</table>\n",
       "</div>"
      ],
      "text/plain": [
       "  Cab Type  Market Share\n",
       "0     Lyft        306102\n",
       "1     Uber        329140"
      ]
     },
     "metadata": {},
     "output_type": "display_data"
    },
    {
     "data": {
      "image/png": "[encoded data removed]",
      "text/plain": [
       "<Figure size 432x288 with 1 Axes>"
      ]
     },
     "metadata": {},
     "output_type": "display_data"
    }
   ],
   "source": [
    "def market_share():\n",
    "    sql_statement = \"\"\"SELECT c.CabTypeName as 'Cab Type' , COUNT(r.CabTypeID) as 'Market Share' FROM ridedetail r\n",
    "                                        JOIN CabType c \n",
    "                                        ON r.CabTypeID = c. CabTypeID \n",
    "                                        GROUP BY 1 \"\"\" \n",
    "    df = pd.read_sql_query(sql_statement, conn)\n",
    "    display(df)\n",
    "    df.plot(kind = 'pie', y = 'Market Share')\n",
    "\n",
    "market_share()"
   ]
  },
  {
   "cell_type": "code",
   "execution_count": 33,
   "metadata": {},
   "outputs": [
    {
     "data": {
      "text/html": [
       "<div>\n",
       "<style scoped>\n",
       "    .dataframe tbody tr th:only-of-type {\n",
       "        vertical-align: middle;\n",
       "    }\n",
       "\n",
       "    .dataframe tbody tr th {\n",
       "        vertical-align: top;\n",
       "    }\n",
       "\n",
       "    .dataframe thead th {\n",
       "        text-align: right;\n",
       "    }\n",
       "</style>\n",
       "<table border=\"1\" class=\"dataframe\">\n",
       "  <thead>\n",
       "    <tr style=\"text-align: right;\">\n",
       "      <th></th>\n",
       "      <th>Location</th>\n",
       "      <th>No. of Bookings</th>\n",
       "    </tr>\n",
       "  </thead>\n",
       "  <tbody>\n",
       "    <tr>\n",
       "      <th>0</th>\n",
       "      <td>Back Bay</td>\n",
       "      <td>52995</td>\n",
       "    </tr>\n",
       "    <tr>\n",
       "      <th>1</th>\n",
       "      <td>Beacon Hill</td>\n",
       "      <td>52675</td>\n",
       "    </tr>\n",
       "    <tr>\n",
       "      <th>2</th>\n",
       "      <td>Boston University</td>\n",
       "      <td>52940</td>\n",
       "    </tr>\n",
       "    <tr>\n",
       "      <th>3</th>\n",
       "      <td>Fenway</td>\n",
       "      <td>52933</td>\n",
       "    </tr>\n",
       "    <tr>\n",
       "      <th>4</th>\n",
       "      <td>Financial District</td>\n",
       "      <td>53948</td>\n",
       "    </tr>\n",
       "    <tr>\n",
       "      <th>5</th>\n",
       "      <td>Haymarket Square</td>\n",
       "      <td>52942</td>\n",
       "    </tr>\n",
       "    <tr>\n",
       "      <th>6</th>\n",
       "      <td>North End</td>\n",
       "      <td>52934</td>\n",
       "    </tr>\n",
       "    <tr>\n",
       "      <th>7</th>\n",
       "      <td>North Station</td>\n",
       "      <td>52322</td>\n",
       "    </tr>\n",
       "    <tr>\n",
       "      <th>8</th>\n",
       "      <td>Northeastern University</td>\n",
       "      <td>52913</td>\n",
       "    </tr>\n",
       "    <tr>\n",
       "      <th>9</th>\n",
       "      <td>South Station</td>\n",
       "      <td>52930</td>\n",
       "    </tr>\n",
       "    <tr>\n",
       "      <th>10</th>\n",
       "      <td>Theatre District</td>\n",
       "      <td>52973</td>\n",
       "    </tr>\n",
       "    <tr>\n",
       "      <th>11</th>\n",
       "      <td>West End</td>\n",
       "      <td>52737</td>\n",
       "    </tr>\n",
       "  </tbody>\n",
       "</table>\n",
       "</div>"
      ],
      "text/plain": [
       "                   Location  No. of Bookings\n",
       "0                  Back Bay            52995\n",
       "1               Beacon Hill            52675\n",
       "2         Boston University            52940\n",
       "3                    Fenway            52933\n",
       "4        Financial District            53948\n",
       "5          Haymarket Square            52942\n",
       "6                 North End            52934\n",
       "7             North Station            52322\n",
       "8   Northeastern University            52913\n",
       "9             South Station            52930\n",
       "10         Theatre District            52973\n",
       "11                 West End            52737"
      ]
     },
     "metadata": {},
     "output_type": "display_data"
    },
    {
     "data": {
      "image/png": "[encoded data removed]",
      "text/plain": [
       "<Figure size 432x288 with 1 Axes>"
      ]
     },
     "metadata": {},
     "output_type": "display_data"
    }
   ],
   "source": [
    "def pickup_locations():\n",
    "    sql_statement = \"\"\"SELECT loc.Location, count(r.Source_ID) as 'No. of Bookings' \n",
    "                                    from RideDetail r\n",
    "                                    join Location loc\n",
    "                                    on r.Source_ID = loc.Location_ID\n",
    "                                    group by loc.location\n",
    "                                     \"\"\" \n",
    "    df = pd.read_sql_query(sql_statement, conn)\n",
    "    display(df)\n",
    "    df.plot(kind = 'pie', y = 'No. of Bookings')\n",
    "\n",
    "pickup_locations()"
   ]
  },
  {
   "cell_type": "code",
   "execution_count": 84,
   "metadata": {},
   "outputs": [
    {
     "data": {
      "text/plain": [
       "[<matplotlib.lines.Line2D at 0x260b642a940>]"
      ]
     },
     "execution_count": 84,
     "metadata": {},
     "output_type": "execute_result"
    },
    {
     "data": {
      "image/png": "[encoded data removed]",
      "text/plain": [
       "<Figure size 648x432 with 2 Axes>"
      ]
     },
     "metadata": {
      "needs_background": "light"
     },
     "output_type": "display_data"
    }
   ],
   "source": [
    "sql_statement = \"SELECT distance,Price from RideDetail WHERE price<=60 GROUP BY distance\"\n",
    "df = pd.read_sql_query(sql_statement, conn)\n",
    "\n",
    "\n",
    "math_plot=df.plot.hexbin(x='Distance',y='Price',color='w',figsize=(9, 6),gridsize = 50)\n",
    "math_plot.set_title('Distance - Price Density',size=20)\n",
    "#plt.grid()\n",
    "\n",
    "import numpy as np\n",
    "from scipy.stats import linregress\n",
    "\n",
    "x = np.array([0.5, 6])\n",
    "y = np.array([5, 50])\n",
    "math_plot.plot(x, y, 'o', label='original data')\n",
    "slope, intercept, r_value, p_value, std_err = linregress(x, y)\n",
    "math_plot.plot(x, intercept + slope*x, 'r', label='fitted line')\n",
    "#df.plot(y=[ 'Humidity','Price'],figsize=(3,7))"
   ]
  },
  {
   "cell_type": "code",
   "execution_count": 35,
   "metadata": {},
   "outputs": [
    {
     "data": {
      "text/plain": [
       "<matplotlib.legend.Legend at 0x260cd1b3d60>"
      ]
     },
     "execution_count": 35,
     "metadata": {},
     "output_type": "execute_result"
    },
    {
     "data": {
      "image/png": "[encoded data removed]",
      "text/plain": [
       "<Figure size 432x288 with 1 Axes>"
      ]
     },
     "metadata": {
      "needs_background": "light"
     },
     "output_type": "display_data"
    }
   ],
   "source": [
    "sql_statement = \"SELECT hour,Price FROM Timestamp,RideDetail WHERE Timestamp.Timestamp_ID=RideDetail.Timestamp_ID and Day='Monday' GROUP BY Timestamp.hour\"\n",
    "df = pd.read_sql_query(sql_statement, conn)\n",
    "#print(df.count())\n",
    "#df[\"Hour\"] = pd.to_numeric(df[\"Hour\"])\n",
    "#GROUP BY --> average value !\n",
    "ax = df.plot(y=['Price'],figsize=(6, 4),  xlabel=\"Riding Time\", ylabel=\"Average Taxi Fare\", marker='o', ms=5)\n",
    "ax.set_title(\"Monday&Sunday - Fare Graph\", fontsize=20)\n",
    "\n",
    "sql_statement = \"SELECT hour,Price FROM Timestamp,RideDetail WHERE Timestamp.Timestamp_ID=RideDetail.Timestamp_ID and Day='Sunday' GROUP BY Timestamp.hour\"\n",
    "\n",
    "df = pd.read_sql_query(sql_statement, conn)\n",
    "\n",
    "df2=df.plot(y=['Price'],figsize=(6, 4),  xlabel=\"Riding Time\", ylabel=\"Average Taxi Fare\", marker='o', ms=5,color=\"r\",ax=ax)\n",
    "#average_fare_sunday.set_title(\"Sunday\", fontsize=20)\n",
    "#df2.plot(ax=ax)\n",
    "#ax\n",
    "from matplotlib.pyplot import *\n",
    "legend(['Monday', 'Sunday'])\n",
    "#plt.show()\n",
    "#Monday : 1. overall taxi fare is higher than Sunday --> Bcz There is much taxi demand on Monday.\n",
    "#         2. There are  three peaks : around commuting time and lunch time --> much riding demand.\n",
    "\n",
    "#Sunday : 1. overall taxi fare is notably lower than Monday\n",
    "#         2. peak time during morning --> no higher demand at night(people wanna stay at home on sunday night!)"
   ]
  },
  {
   "cell_type": "code",
   "execution_count": 36,
   "metadata": {},
   "outputs": [
    {
     "data": {
      "image/png": "[encoded data removed]",
      "text/plain": [
       "<Figure size 432x288 with 1 Axes>"
      ]
     },
     "metadata": {
      "needs_background": "light"
     },
     "output_type": "display_data"
    }
   ],
   "source": [
    "import matplotlib.pyplot as mpl\n",
    "import numpy as np\n",
    "def type_price_distribution():\n",
    "    sql_statement = \"\"\"SELECT cpt.ProductName, r.price\n",
    "                        FROM RideDetail r\n",
    "                        LEFT JOIN CabProductType cpt\n",
    "                        ON r.Product_ID = cpt.Product_ID\n",
    "                        \n",
    "                        \"\"\"\n",
    "    cabs = pd.read_sql_query(sql_statement, conn)\n",
    "\n",
    "    #display(cabs)\n",
    "    price_by_shared = cabs.loc[(cabs['ProductName'].isin(['Shared','UberPool']))  ,'Price'].to_numpy()\n",
    "    #return price_by_shared\n",
    "\n",
    "    price_by_luxury = cabs.loc[(cabs['ProductName'].isin(['Lux','Lux Black XL','Black SUV'])),'Price'].to_numpy()\n",
    "    price_by_shared = cabs.loc[(cabs['ProductName'].isin(['Shared','UberPool'])),'Price'].to_numpy()\n",
    "\n",
    "\n",
    "    #return price_by_luxury\n",
    "    price_by_regular = cabs.loc[ (cabs['ProductName'].isin(['Lyft','Lyft XL','Uber XL','UberX','WAV','Taxi']))  ,'Price'].to_numpy()\n",
    "    \n",
    "    prices_by_class = [price_by_shared,np.nan_to_num(price_by_regular),np.nan_to_num(price_by_luxury)]\n",
    "    \n",
    "    \n",
    "    mpl.boxplot(prices_by_class, vert=False,widths=(0.6,0.6,0.6),notch ='True',patch_artist = True)\n",
    "    mpl.yticks([1,2,3], ['Shared Class Price', 'Regular Class Price','Luxury Class Price'])\n",
    "    \n",
    "    \n",
    "type_price_distribution()"
   ]
  },
  {
   "cell_type": "code",
   "execution_count": null,
   "metadata": {},
   "outputs": [],
   "source": []
  },
  {
   "cell_type": "markdown",
   "metadata": {},
   "source": [
    "# Building Neural Network Model for Price Prediction\n",
    "--------------"
   ]
  },
  {
   "cell_type": "markdown",
   "metadata": {},
   "source": [
    "### *1. Construct the Input Data*"
   ]
  },
  {
   "cell_type": "code",
   "execution_count": 37,
   "metadata": {},
   "outputs": [],
   "source": [
    "sql_statement = '''SELECT Ride_ID, Price, Source_ID, Destination_ID, Distance,\n",
    "CabType.CabTypeName, CabProductType.ProductName, Day, Date, Hour,\n",
    "ridedetail.timestamp_id,\n",
    "avg(Weather.Temp) as Temp, avg(Weather.Clouds) as Clouds, \n",
    "avg(Weather.Pressure) as Pressure, avg(Weather.Rain) as Rain\n",
    ",avg(Weather.Humidity) as Humidity, avg(Weather.Wind) as Wind\n",
    "FROM RideDetail \n",
    "LEFT JOIN CabType ON RideDetail.CabTypeID = CabType.CabTypeID \n",
    "LEFT JOIN CabProductType ON RideDetail.Product_ID = CabProductType.Product_ID\n",
    "LEFT JOIN weather on weather.timestamp_id = ridedetail.timestamp_id\n",
    "     and weather.location_id = ridedetail.source_id\n",
    "LEFT JOIN Timestamp ON Ridedetail.Timestamp_ID = Timestamp.Timestamp_ID\n",
    "group by 1,2,3,4,5,6,7,8,9,10,11;\n",
    "'''\n",
    "## The weather data is consolidated at an hourly level, so the mean of weather features within the hour is queried; \n",
    "\n",
    "# Reading the query output\n",
    "df = pd.read_sql_query(sql_statement, conn)"
   ]
  },
  {
   "cell_type": "code",
   "execution_count": 38,
   "metadata": {},
   "outputs": [],
   "source": [
    "df.drop(['Ride_ID', 'Date'], axis = 1, inplace = True)"
   ]
  },
  {
   "cell_type": "code",
   "execution_count": 39,
   "metadata": {},
   "outputs": [],
   "source": [
    "import matplotlib.pyplot as plt"
   ]
  },
  {
   "cell_type": "code",
   "execution_count": 40,
   "metadata": {},
   "outputs": [],
   "source": [
    "lower_bound = 0.01\n",
    "upper_bound = 0.99"
   ]
  },
  {
   "cell_type": "code",
   "execution_count": 41,
   "metadata": {},
   "outputs": [
    {
     "data": {
      "text/plain": [
       "<function matplotlib.pyplot.show(close=None, block=None)>"
      ]
     },
     "execution_count": 41,
     "metadata": {},
     "output_type": "execute_result"
    },
    {
     "data": {
      "image/png": "[encoded data removed]",
      "text/plain": [
       "<Figure size 432x288 with 1 Axes>"
      ]
     },
     "metadata": {
      "needs_background": "light"
     },
     "output_type": "display_data"
    }
   ],
   "source": [
    "plt.title(r'Price')\n",
    "plt.rc('figure', titlesize = 40)\n",
    "plt.rc('font', size = 15)\n",
    "plt.hist(df['Price'], bins = 20)\n",
    "plt.xlabel('Price')\n",
    "plt.ylabel('Frequency')\n",
    "plt.show"
   ]
  },
  {
   "cell_type": "code",
   "execution_count": 42,
   "metadata": {},
   "outputs": [
    {
     "data": {
      "text/plain": [
       "0.01     3.5\n",
       "0.99    42.5\n",
       "Name: Price, dtype: float64"
      ]
     },
     "execution_count": 42,
     "metadata": {},
     "output_type": "execute_result"
    }
   ],
   "source": [
    "res_price = df.Price.quantile([lower_bound, upper_bound])\n",
    "res_price"
   ]
  },
  {
   "cell_type": "code",
   "execution_count": 43,
   "metadata": {},
   "outputs": [],
   "source": [
    "# Remove the observations larger than upper_bound.\n",
    "true_index_price = (df.Price.values < res_price.loc[upper_bound])"
   ]
  },
  {
   "cell_type": "code",
   "execution_count": 44,
   "metadata": {},
   "outputs": [
    {
     "data": {
      "text/plain": [
       "<function matplotlib.pyplot.show(close=None, block=None)>"
      ]
     },
     "execution_count": 44,
     "metadata": {},
     "output_type": "execute_result"
    },
    {
     "data": {
      "image/png": "[encoded data removed]",
      "text/plain": [
       "<Figure size 432x288 with 1 Axes>"
      ]
     },
     "metadata": {
      "needs_background": "light"
     },
     "output_type": "display_data"
    }
   ],
   "source": [
    "plt.title(r'Distance')\n",
    "plt.rc('figure', titlesize = 40)\n",
    "plt.rc('font', size = 15)\n",
    "plt.hist(df['Distance'], bins = 20)\n",
    "plt.xlabel('Distance')\n",
    "plt.ylabel('Frequency')\n",
    "plt.show"
   ]
  },
  {
   "cell_type": "code",
   "execution_count": 45,
   "metadata": {},
   "outputs": [],
   "source": [
    "res_distance = df.Distance.quantile([lower_bound, upper_bound])"
   ]
  },
  {
   "cell_type": "code",
   "execution_count": 46,
   "metadata": {},
   "outputs": [],
   "source": [
    "# Remove the observations larger than upper_bound.\n",
    "true_index_distance = (df.Distance.values < res_distance.loc[upper_bound])"
   ]
  },
  {
   "cell_type": "code",
   "execution_count": 47,
   "metadata": {},
   "outputs": [
    {
     "data": {
      "text/plain": [
       "<function matplotlib.pyplot.show(close=None, block=None)>"
      ]
     },
     "execution_count": 47,
     "metadata": {},
     "output_type": "execute_result"
    },
    {
     "data": {
      "image/png": "[encoded data removed]",
      "text/plain": [
       "<Figure size 432x288 with 1 Axes>"
      ]
     },
     "metadata": {
      "needs_background": "light"
     },
     "output_type": "display_data"
    }
   ],
   "source": [
    "plt.title(r'Temp')\n",
    "plt.rc('figure', titlesize = 40)\n",
    "plt.rc('font', size = 15)\n",
    "plt.hist(df['Temp'], bins = 20)\n",
    "plt.xlabel('Temp')\n",
    "plt.ylabel('Frequency')\n",
    "plt.show"
   ]
  },
  {
   "cell_type": "code",
   "execution_count": 48,
   "metadata": {},
   "outputs": [],
   "source": [
    "res_temp = df.Temp.quantile([lower_bound, upper_bound])"
   ]
  },
  {
   "cell_type": "code",
   "execution_count": 49,
   "metadata": {},
   "outputs": [],
   "source": [
    "# Remove the observations smaller than lower bound and larger than upper_bound.\n",
    "true_index_temp = (res_temp.loc[lower_bound] < df.Temp.values) & \\\n",
    "             (df.Temp.values < res_temp.loc[upper_bound])"
   ]
  },
  {
   "cell_type": "code",
   "execution_count": 50,
   "metadata": {},
   "outputs": [
    {
     "data": {
      "text/plain": [
       "<function matplotlib.pyplot.show(close=None, block=None)>"
      ]
     },
     "execution_count": 50,
     "metadata": {},
     "output_type": "execute_result"
    },
    {
     "data": {
      "image/png": "[encoded data removed]",
      "text/plain": [
       "<Figure size 432x288 with 1 Axes>"
      ]
     },
     "metadata": {
      "needs_background": "light"
     },
     "output_type": "display_data"
    }
   ],
   "source": [
    "plt.title(r'Clouds')\n",
    "plt.rc('figure', titlesize = 40)\n",
    "plt.rc('font', size = 15)\n",
    "plt.hist(df['Clouds'], bins = 20)\n",
    "plt.xlabel('Clouds')\n",
    "plt.ylabel('Frequency')\n",
    "plt.show"
   ]
  },
  {
   "cell_type": "code",
   "execution_count": 51,
   "metadata": {},
   "outputs": [],
   "source": [
    "res_clouds = df.Clouds.quantile([lower_bound, upper_bound])"
   ]
  },
  {
   "cell_type": "code",
   "execution_count": 52,
   "metadata": {},
   "outputs": [],
   "source": [
    "# Remove the observations smaller than lower_bound.\n",
    "true_index_clouds = (res_clouds.loc[lower_bound] < df.Clouds.values)"
   ]
  },
  {
   "cell_type": "code",
   "execution_count": 53,
   "metadata": {},
   "outputs": [
    {
     "data": {
      "text/plain": [
       "<function matplotlib.pyplot.show(close=None, block=None)>"
      ]
     },
     "execution_count": 53,
     "metadata": {},
     "output_type": "execute_result"
    },
    {
     "data": {
      "image/png": "[encoded data removed]",
      "text/plain": [
       "<Figure size 432x288 with 1 Axes>"
      ]
     },
     "metadata": {
      "needs_background": "light"
     },
     "output_type": "display_data"
    }
   ],
   "source": [
    "plt.title(r'Pressure')\n",
    "plt.rc('figure', titlesize = 40)\n",
    "plt.rc('font', size = 15)\n",
    "plt.hist(df['Pressure'], bins = 20)\n",
    "plt.xlabel('Pressure')\n",
    "plt.ylabel('Frequency')\n",
    "plt.show"
   ]
  },
  {
   "cell_type": "code",
   "execution_count": 54,
   "metadata": {},
   "outputs": [],
   "source": [
    "# Do not make change since the distribution is close to Uniform distribution.\n",
    "res_pressure = df.Pressure.quantile([lower_bound, upper_bound])"
   ]
  },
  {
   "cell_type": "code",
   "execution_count": 55,
   "metadata": {},
   "outputs": [
    {
     "data": {
      "text/plain": [
       "<function matplotlib.pyplot.show(close=None, block=None)>"
      ]
     },
     "execution_count": 55,
     "metadata": {},
     "output_type": "execute_result"
    },
    {
     "data": {
      "image/png": "[encoded data removed]",
      "text/plain": [
       "<Figure size 432x288 with 1 Axes>"
      ]
     },
     "metadata": {
      "needs_background": "light"
     },
     "output_type": "display_data"
    }
   ],
   "source": [
    "plt.title(r'Rain')\n",
    "plt.rc('figure', titlesize = 40)\n",
    "plt.rc('font', size = 15)\n",
    "plt.hist(df['Rain'], bins = 20)\n",
    "plt.xlabel('Rain')\n",
    "plt.ylabel('Frequency')\n",
    "plt.show"
   ]
  },
  {
   "cell_type": "code",
   "execution_count": 56,
   "metadata": {},
   "outputs": [],
   "source": [
    "res_rain = df.Rain.quantile([lower_bound, upper_bound])"
   ]
  },
  {
   "cell_type": "code",
   "execution_count": 57,
   "metadata": {},
   "outputs": [],
   "source": [
    "# Remove the observations larger than upper_bound.\n",
    "true_index_rain = (df.Rain.values < res_rain.loc[upper_bound])"
   ]
  },
  {
   "cell_type": "code",
   "execution_count": 58,
   "metadata": {},
   "outputs": [
    {
     "data": {
      "text/plain": [
       "<function matplotlib.pyplot.show(close=None, block=None)>"
      ]
     },
     "execution_count": 58,
     "metadata": {},
     "output_type": "execute_result"
    },
    {
     "data": {
      "image/png": "[encoded data removed]",
      "text/plain": [
       "<Figure size 432x288 with 1 Axes>"
      ]
     },
     "metadata": {
      "needs_background": "light"
     },
     "output_type": "display_data"
    }
   ],
   "source": [
    "plt.title(r'Humidity')\n",
    "plt.rc('figure', titlesize = 40)\n",
    "plt.rc('font', size = 15)\n",
    "plt.hist(df['Humidity'], bins = 20)\n",
    "plt.xlabel('Humidity')\n",
    "plt.ylabel('Frequency')\n",
    "plt.show"
   ]
  },
  {
   "cell_type": "code",
   "execution_count": 59,
   "metadata": {},
   "outputs": [],
   "source": [
    "res_humidity = df.Humidity.quantile([lower_bound, upper_bound])"
   ]
  },
  {
   "cell_type": "code",
   "execution_count": 60,
   "metadata": {},
   "outputs": [],
   "source": [
    "# Remove the observations smaller than lower_bound.\n",
    "true_index_humidity = (res_humidity.loc[lower_bound] < df.Humidity.values)"
   ]
  },
  {
   "cell_type": "code",
   "execution_count": 61,
   "metadata": {},
   "outputs": [
    {
     "data": {
      "text/plain": [
       "<function matplotlib.pyplot.show(close=None, block=None)>"
      ]
     },
     "execution_count": 61,
     "metadata": {},
     "output_type": "execute_result"
    },
    {
     "data": {
      "image/png": "[encoded data removed]",
      "text/plain": [
       "<Figure size 432x288 with 1 Axes>"
      ]
     },
     "metadata": {
      "needs_background": "light"
     },
     "output_type": "display_data"
    }
   ],
   "source": [
    "plt.title(r'Wind')\n",
    "plt.rc('figure', titlesize = 40)\n",
    "plt.rc('font', size = 15)\n",
    "plt.hist(df['Wind'], bins = 20)\n",
    "plt.xlabel('Wind')\n",
    "plt.ylabel('Frequency')\n",
    "plt.show"
   ]
  },
  {
   "cell_type": "code",
   "execution_count": 62,
   "metadata": {},
   "outputs": [],
   "source": [
    "res_wind = df.Wind.quantile([lower_bound, upper_bound])"
   ]
  },
  {
   "cell_type": "code",
   "execution_count": 63,
   "metadata": {},
   "outputs": [],
   "source": [
    "# Remove the observations larger than upper_bound.\n",
    "true_index_wind = (df.Wind.values < res_wind.loc[upper_bound])"
   ]
  },
  {
   "cell_type": "code",
   "execution_count": 64,
   "metadata": {},
   "outputs": [
    {
     "data": {
      "text/plain": [
       "array([ True,  True, False, ...,  True,  True,  True])"
      ]
     },
     "execution_count": 64,
     "metadata": {},
     "output_type": "execute_result"
    }
   ],
   "source": [
    "for i in range(df.shape[0]):\n",
    "    if true_index_price[i] * true_index_distance[i] * true_index_temp[i] * true_index_clouds[i] * true_index_rain[i] * true_index_humidity[i] * true_index_wind[i] == 0:\n",
    "        true_index_price[i] = False\n",
    "\n",
    "true_index_price"
   ]
  },
  {
   "cell_type": "code",
   "execution_count": 65,
   "metadata": {},
   "outputs": [],
   "source": [
    "df = df[true_index_price]"
   ]
  },
  {
   "cell_type": "markdown",
   "metadata": {},
   "source": [
    "## 2. Remove missing values."
   ]
  },
  {
   "cell_type": "code",
   "execution_count": 66,
   "metadata": {},
   "outputs": [],
   "source": [
    "df = df.dropna()"
   ]
  },
  {
   "cell_type": "markdown",
   "metadata": {},
   "source": [
    "## 3. Scaling Features"
   ]
  },
  {
   "cell_type": "code",
   "execution_count": 67,
   "metadata": {},
   "outputs": [],
   "source": [
    "# Feature Scaling to avoid the cases in which a feature with the largest scale dominates variations.\n",
    "# Copy the original before scaling.\n",
    "df_prescaled = df.copy()\n",
    "# Remove features which do not need scaling.\n",
    "df_scaled = df.drop(['Price', 'CabTypeName', 'ProductName', 'Source_ID', 'Destination_ID', 'Day', 'Hour'], axis = 1)"
   ]
  },
  {
   "cell_type": "code",
   "execution_count": 68,
   "metadata": {},
   "outputs": [],
   "source": [
    "# Apply scaling.\n",
    "from sklearn.preprocessing import scale\n",
    "\n",
    "df_scaled = scale(df_scaled)\n",
    "\n",
    "# Convert the object which is returned by scaling function into DataFrame\n",
    "cols = df.columns.tolist()\n",
    "\n",
    "for i in ['Price', 'CabTypeName', 'ProductName', 'Source_ID', 'Destination_ID', 'Day', 'Hour']:\n",
    "    cols.remove(i)\n",
    "df_scaled = pd.DataFrame(df_scaled, columns = cols, index = df.index)\n",
    "df_scaled = pd.concat([df_scaled, df[['Price', 'CabTypeName', 'ProductName', 'Source_ID', 'Destination_ID', 'Day', 'Hour']]], axis = 1)\n",
    "df = df_scaled.copy()"
   ]
  },
  {
   "cell_type": "markdown",
   "metadata": {},
   "source": [
    "## 4. Encoding"
   ]
  },
  {
   "cell_type": "code",
   "execution_count": 69,
   "metadata": {},
   "outputs": [],
   "source": [
    "# One-Hot Encoding\n",
    "from sklearn.preprocessing import LabelBinarizer"
   ]
  },
  {
   "cell_type": "code",
   "execution_count": 70,
   "metadata": {},
   "outputs": [],
   "source": [
    "df['CabTypeName'].replace({'Lyft': 0, 'Uber': 1}, inplace = True)"
   ]
  },
  {
   "cell_type": "code",
   "execution_count": 71,
   "metadata": {},
   "outputs": [],
   "source": [
    "productname = LabelBinarizer().fit_transform(df.ProductName)\n",
    "source_id = LabelBinarizer().fit_transform(df.Source_ID)\n",
    "destination_id = LabelBinarizer().fit_transform(df.Destination_ID)\n",
    "day = LabelBinarizer().fit_transform(df.Day)"
   ]
  },
  {
   "cell_type": "code",
   "execution_count": 72,
   "metadata": {},
   "outputs": [],
   "source": [
    "df['Hour'] = df['Hour'].astype(int)"
   ]
  },
  {
   "cell_type": "code",
   "execution_count": 73,
   "metadata": {},
   "outputs": [],
   "source": [
    "df.drop(['ProductName', 'Source_ID', 'Destination_ID', 'Day'], axis = 1, inplace = True)"
   ]
  },
  {
   "cell_type": "code",
   "execution_count": 74,
   "metadata": {},
   "outputs": [],
   "source": [
    "# Encoding product names (One-hot encoding)\n",
    "df['PN_1'] = productname[:, 0]\n",
    "df['PN_2'] = productname[:, 1]\n",
    "df['PN_3'] = productname[:, 2]\n",
    "df['PN_4'] = productname[:, 3]\n",
    "df['PN_5'] = productname[:, 4]\n",
    "df['PN_6'] = productname[:, 5]\n",
    "df['PN_7'] = productname[:, 6]\n",
    "df['PN_8'] = productname[:, 7]\n",
    "df['PN_9'] = productname[:, 8]\n",
    "df['PN_10'] = productname[:, 9]\n",
    "df['PN_11'] = productname[:, 10]\n",
    "df['PN_12'] = productname[:, 11]"
   ]
  },
  {
   "cell_type": "code",
   "execution_count": 75,
   "metadata": {},
   "outputs": [],
   "source": [
    "# Encoding starting points (One-hot encoding)\n",
    "df['START_1'] = source_id[:, 0]\n",
    "df['START_2'] = source_id[:, 1]\n",
    "df['START_3'] = source_id[:, 2]\n",
    "df['START_4'] = source_id[:, 3]\n",
    "df['START_5'] = source_id[:, 4]\n",
    "df['START_6'] = source_id[:, 5]\n",
    "df['START_7'] = source_id[:, 6]\n",
    "df['START_8'] = source_id[:, 7]\n",
    "df['START_9'] = source_id[:, 8]\n",
    "df['START_10'] = source_id[:, 9]\n",
    "df['START_11'] = source_id[:, 10]\n",
    "df['START_12'] = source_id[:, 11]"
   ]
  },
  {
   "cell_type": "code",
   "execution_count": 76,
   "metadata": {},
   "outputs": [],
   "source": [
    "# Encoding destination locations (One-hot encoding)\n",
    "df['DEST_1'] = destination_id[:, 0]\n",
    "df['DEST_2'] = destination_id[:, 1]\n",
    "df['DEST_3'] = destination_id[:, 2]\n",
    "df['DEST_4'] = destination_id[:, 3]\n",
    "df['DEST_5'] = destination_id[:, 4]\n",
    "df['DEST_6'] = destination_id[:, 5]\n",
    "df['DEST_7'] = destination_id[:, 6]\n",
    "df['DEST_8'] = destination_id[:, 7]\n",
    "df['DEST_9'] = destination_id[:, 8]\n",
    "df['DEST_10'] = destination_id[:, 9]\n",
    "df['DEST_11'] = destination_id[:, 10]\n",
    "df['DEST_12'] = destination_id[:, 11]"
   ]
  },
  {
   "cell_type": "code",
   "execution_count": 77,
   "metadata": {},
   "outputs": [],
   "source": [
    "# Encoding days of week  (One-hot encoding)\n",
    "df['Day_1'] = day[:, 0]\n",
    "df['Day_2'] = day[:, 1]\n",
    "df['Day_3'] = day[:, 2]\n",
    "df['Day_4'] = day[:, 3]\n",
    "df['Day_5'] = day[:, 4]\n",
    "df['Day_6'] = day[:, 5]\n",
    "df['Day_7'] = day[:, 6]"
   ]
  },
  {
   "cell_type": "markdown",
   "metadata": {},
   "source": [
    "## 5. Divide the preprocessed data into training and test sets."
   ]
  },
  {
   "cell_type": "code",
   "execution_count": 78,
   "metadata": {},
   "outputs": [],
   "source": [
    "# Set features and the target variable.\n",
    "X = df.loc[:, df.columns != 'Price']\n",
    "y = df.loc[:, 'Price']"
   ]
  },
  {
   "cell_type": "code",
   "execution_count": 79,
   "metadata": {},
   "outputs": [],
   "source": [
    "# Divide the data set into training and test data sets.\n",
    "# Training:Test = 0.8:0.2\n",
    "from sklearn.model_selection import train_test_split\n",
    "X_train, X_test, y_train, y_test = train_test_split(X, y, test_size = 0.2)"
   ]
  },
  {
   "cell_type": "code",
   "execution_count": null,
   "metadata": {},
   "outputs": [],
   "source": []
  },
  {
   "cell_type": "markdown",
   "metadata": {},
   "source": [
    "# Deep Neural Network\n",
    "---"
   ]
  },
  {
   "cell_type": "markdown",
   "metadata": {},
   "source": [
    "## 1. Model Architecture"
   ]
  },
  {
   "cell_type": "code",
   "execution_count": 80,
   "metadata": {},
   "outputs": [
    {
     "name": "stdout",
     "output_type": "stream",
     "text": [
      "Model: \"sequential\"\n",
      "_________________________________________________________________\n",
      "Layer (type)                 Output Shape              Param #   \n",
      "=================================================================\n",
      "dense (Dense)                (None, 128)               6912      \n",
      "_________________________________________________________________\n",
      "dense_1 (Dense)              (None, 64)                8256      \n",
      "_________________________________________________________________\n",
      "dense_2 (Dense)              (None, 32)                2080      \n",
      "_________________________________________________________________\n",
      "dense_3 (Dense)              (None, 8)                 264       \n",
      "_________________________________________________________________\n",
      "dense_4 (Dense)              (None, 1)                 9         \n",
      "=================================================================\n",
      "Total params: 17,521\n",
      "Trainable params: 17,521\n",
      "Non-trainable params: 0\n",
      "_________________________________________________________________\n"
     ]
    }
   ],
   "source": [
    "## Deep Forward Network\n",
    "# the number of hidden layers' nodes: 128\n",
    "# The number of nodes is halved through the layer.\n",
    "# activation function in hidden layers: ReLU (not in the output layer)\n",
    "# loss function: MSE\n",
    "\n",
    "# Build the model using Keras.\n",
    "# Build the Sequential model based on our architecture.\n",
    "from keras.models import Sequential\n",
    "from keras.layers import Dense\n",
    "\n",
    "model = Sequential()\n",
    "model.add(Dense(128, activation = 'relu', input_dim = X_train.shape[1]))\n",
    "model.add(Dense(64, activation = 'relu'))\n",
    "model.add(Dense(32, activation = 'relu'))\n",
    "model.add(Dense(8, activation = 'relu'))\n",
    "model.add(Dense(1))\n",
    "\n",
    "model.summary() # for model validation before starting training (must be the same as our model architecture)"
   ]
  },
  {
   "cell_type": "markdown",
   "metadata": {},
   "source": [
    "## 2. Training"
   ]
  },
  {
   "cell_type": "code",
   "execution_count": 81,
   "metadata": {},
   "outputs": [
    {
     "name": "stdout",
     "output_type": "stream",
     "text": [
      "Epoch 1/10\n",
      "14527/14527 [==============================] - 24s 788us/step - loss: 10.2560 - mse: 10.2560\n",
      "Epoch 2/10\n",
      "14527/14527 [==============================] - 12s 802us/step - loss: 4.1454 - mse: 4.1454\n",
      "Epoch 3/10\n",
      "14527/14527 [==============================] - 12s 795us/step - loss: 4.0308 - mse: 4.0308\n",
      "Epoch 4/10\n",
      "14527/14527 [==============================] - 12s 832us/step - loss: 4.0144 - mse: 4.0144\n",
      "Epoch 5/10\n",
      "14527/14527 [==============================] - 12s 797us/step - loss: 3.9252 - mse: 3.9252\n",
      "Epoch 6/10\n",
      "14527/14527 [==============================] - 11s 789us/step - loss: 3.9520 - mse: 3.9520\n",
      "Epoch 7/10\n",
      "14527/14527 [==============================] - 12s 801us/step - loss: 3.9235 - mse: 3.9235\n",
      "Epoch 8/10\n",
      "14527/14527 [==============================] - 12s 798us/step - loss: 3.8663 - mse: 3.8663\n",
      "Epoch 9/10\n",
      "14527/14527 [==============================] - 12s 803us/step - loss: 3.8702 - mse: 3.8702\n",
      "Epoch 10/10\n",
      "14527/14527 [==============================] - 12s 798us/step - loss: 3.9057 - mse: 3.9057\n"
     ]
    },
    {
     "data": {
      "text/plain": [
       "<keras.callbacks.History at 0x260cf2191c0>"
      ]
     },
     "execution_count": 81,
     "metadata": {},
     "output_type": "execute_result"
    }
   ],
   "source": [
    "# Compile the neural network and train it using our training data set.\n",
    "model.compile(loss = 'mse', optimizer = 'adam', metrics = ['mse'])\n",
    "model.fit(X_train, y_train, epochs = 10)"
   ]
  },
  {
   "cell_type": "markdown",
   "metadata": {},
   "source": [
    "## 3. Evaluation"
   ]
  },
  {
   "cell_type": "code",
   "execution_count": 82,
   "metadata": {},
   "outputs": [],
   "source": [
    "import numpy as np"
   ]
  },
  {
   "cell_type": "code",
   "execution_count": 83,
   "metadata": {},
   "outputs": [
    {
     "name": "stdout",
     "output_type": "stream",
     "text": [
      "Train RMSE: 1.97\n",
      "Test RMSE: 1.99\n"
     ]
    }
   ],
   "source": [
    "# RMSE of the training and test data sets\n",
    "from sklearn.metrics import mean_squared_error\n",
    " \n",
    "train_pred = model.predict(X_train)\n",
    "train_rmse = np.sqrt(mean_squared_error(y_train, train_pred))\n",
    " \n",
    "test_pred = model.predict(X_test)\n",
    "test_rmse = np.sqrt(mean_squared_error(y_test, test_pred))\n",
    " \n",
    "print(f\"Train RMSE: {train_rmse:.2f}\")\n",
    "print(f\"Test RMSE: {test_rmse:.2f}\")"
   ]
  },
  {
   "cell_type": "code",
   "execution_count": null,
   "metadata": {},
   "outputs": [],
   "source": []
  },
  {
   "cell_type": "code",
   "execution_count": null,
   "metadata": {},
   "outputs": [],
   "source": []
  }
 ],
 "metadata": {
  "kernelspec": {
   "display_name": "Python 3",
   "language": "python",
   "name": "python3"
  },
  "language_info": {
   "codemirror_mode": {
    "name": "ipython",
    "version": 3
   },
   "file_extension": ".py",
   "mimetype": "text/x-python",
   "name": "python",
   "nbconvert_exporter": "python",
   "pygments_lexer": "ipython3",
   "version": "3.8.5"
  }
 },
 "nbformat": 4,
 "nbformat_minor": 4
}
